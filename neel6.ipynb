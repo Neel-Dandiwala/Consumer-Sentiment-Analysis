{
 "cells": [
  {
   "cell_type": "code",
   "execution_count": 1,
   "id": "286427c7-1134-464c-8c0f-4d99f57998f6",
   "metadata": {},
   "outputs": [],
   "source": [
    "import pandas as pd\n",
    "import numpy as np\n",
    "from sklearn.compose import ColumnTransformer\n",
    "from sklearn.pipeline import Pipeline\n",
    "from sklearn.preprocessing import OneHotEncoder, StandardScaler\n",
    "from sklearn.ensemble import RandomForestRegressor\n",
    "from sklearn.model_selection import train_test_split\n",
    "from sklearn.metrics import mean_absolute_error\n",
    "from sklearn.ensemble import StackingRegressor\n",
    "from sklearn.linear_model import LinearRegression\n",
    "from sklearn.feature_extraction.text import TfidfVectorizer\n",
    "import re"
   ]
  },
  {
   "cell_type": "code",
   "execution_count": 2,
   "id": "6414b960-cfbf-480b-9453-2937f226c7d5",
   "metadata": {},
   "outputs": [],
   "source": [
    "# creating a sample dataset\n",
    "training_data = pd.read_csv('train_file.csv')\n",
    "training_data['Source'].replace('^\\s+$', np.nan,regex=True,inplace=True)\n",
    "training_data['Source'].replace('[-_]', '',regex=True,inplace=True)\n",
    "training_data['Source'].replace('[^\\x00-\\x7f]', np.nan,regex=True,inplace=True)\n",
    "training_data = training_data.dropna()\n",
    "training_data['Source'].isna().sum()\n",
    "\n",
    "source = list(training_data['Source'])\n",
    "source_without_spaces = [(re.sub(r'[^\\w]', ' ', x)).replace(' ', '') for x in source]\n",
    "\n",
    "data = {\n",
    "    'headline':list(training_data['Headline']),\n",
    "    'source': source_without_spaces,\n",
    "    'topic': list(training_data['Topic']),\n",
    "    'facebook': list(training_data['Facebook']),\n",
    "    'linkedin': list(training_data['LinkedIn']),\n",
    "    'instagram': list(training_data['GooglePlus']),\n",
    "    'target': list(training_data['SentimentHeadline'])\n",
    "}\n",
    "\n",
    "\n",
    "df = pd.DataFrame(data)"
   ]
  },
  {
   "cell_type": "code",
   "execution_count": 3,
   "id": "20b2cd70-ffb8-42e9-b34a-b862a4830ccc",
   "metadata": {},
   "outputs": [],
   "source": [
    "# Separate input features and target\n",
    "X = df.drop('target', axis=1)\n",
    "y = df['target']\n",
    "\n",
    "# Splitting the dataset into train and test set\n",
    "X_train, X_test, y_train, y_test = train_test_split(X, y, test_size=0.25, random_state=42)"
   ]
  },
  {
   "cell_type": "code",
   "execution_count": 4,
   "id": "d79ddff2-446f-4870-aac3-fc93e9b28f8c",
   "metadata": {},
   "outputs": [],
   "source": [
    "# Preprocessing for numerical features\n",
    "numerical_transformer = Pipeline(steps=[\n",
    "    ('scaler', StandardScaler())\n",
    "])\n",
    "\n",
    "# Preprocessing for categorical features\n",
    "categorical_transformer = Pipeline(steps=[\n",
    "    ('onehot', OneHotEncoder(handle_unknown='ignore'))\n",
    "])\n",
    "\n",
    "# Preprocessing for headline feature\n",
    "headline_transformer = Pipeline(steps=[\n",
    "    ('tfidf', TfidfVectorizer())\n",
    "])"
   ]
  },
  {
   "cell_type": "code",
   "execution_count": 5,
   "id": "a114b5b6-2d65-4cab-8d46-b362ac4002c9",
   "metadata": {},
   "outputs": [],
   "source": [
    "# Bundle preprocessing for numerical and categorical features\n",
    "preprocessor = ColumnTransformer(\n",
    "    transformers=[\n",
    "        ('num', numerical_transformer, ['facebook', 'linkedin', 'instagram']),\n",
    "        ('cat', categorical_transformer, ['source', 'topic']),\n",
    "        ('headline', headline_transformer, 'headline')\n",
    "    ])"
   ]
  },
  {
   "cell_type": "code",
   "execution_count": 6,
   "id": "e17eaf17-06ae-45ab-a275-77612b30f3b8",
   "metadata": {},
   "outputs": [],
   "source": [
    "# Defining the base model\n",
    "base_model = RandomForestRegressor(n_estimators=100, random_state=42)"
   ]
  },
  {
   "cell_type": "code",
   "execution_count": 7,
   "id": "745560fa-3409-451d-8f9d-f581daf26f0f",
   "metadata": {},
   "outputs": [],
   "source": [
    "# Defining the stacking model\n",
    "stacking_model = StackingRegressor(\n",
    "    estimators=[\n",
    "        ('lr', LinearRegression()),\n",
    "        ('rf', RandomForestRegressor(n_estimators=10, random_state=42))\n",
    "    ],\n",
    "    final_estimator=RandomForestRegressor(n_estimators=100, random_state=42)\n",
    ")"
   ]
  },
  {
   "cell_type": "code",
   "execution_count": 8,
   "id": "0a240b2b-b6d4-45c4-b692-c71c3c62e6b0",
   "metadata": {
    "jupyter": {
     "source_hidden": true
    },
    "tags": []
   },
   "outputs": [
    {
     "data": {
      "text/plain": [
       "Pipeline(steps=[('preprocessor',\n",
       "                 ColumnTransformer(transformers=[('num',\n",
       "                                                  Pipeline(steps=[('scaler',\n",
       "                                                                   StandardScaler())]),\n",
       "                                                  ['facebook', 'linkedin',\n",
       "                                                   'instagram']),\n",
       "                                                 ('cat',\n",
       "                                                  Pipeline(steps=[('onehot',\n",
       "                                                                   OneHotEncoder(handle_unknown='ignore'))]),\n",
       "                                                  ['source', 'topic']),\n",
       "                                                 ('headline',\n",
       "                                                  Pipeline(steps=[('tfidf',\n",
       "                                                                   TfidfVectorizer())]),\n",
       "                                                  'headline')])),\n",
       "                ('stacked_model',\n",
       "                 StackingRegressor(estimators=[('lr', LinearRegression()),\n",
       "                                               ('rf',\n",
       "                                                RandomForestRegressor(n_estimators=10,\n",
       "                                                                      random_state=42))],\n",
       "                                   final_estimator=RandomForestRegressor(random_state=42)))])"
      ]
     },
     "execution_count": 8,
     "metadata": {},
     "output_type": "execute_result"
    }
   ],
   "source": [
    "# Defining the full pipeline with preprocessing and the stacked model\n",
    "full_pipeline = Pipeline(steps=[\n",
    "    ('preprocessor', preprocessor),\n",
    "    ('stacked_model', stacking_model)\n",
    "])\n",
    "\n",
    "# Fitting the pipeline on training data\n",
    "full_pipeline.fit(X_train, y_train)"
   ]
  },
  {
   "cell_type": "code",
   "execution_count": 9,
   "id": "f389c4ff-073e-40a8-af66-80d29ea27576",
   "metadata": {},
   "outputs": [
    {
     "data": {
      "text/plain": [
       "Pipeline(steps=[('preprocessor',\n",
       "                 ColumnTransformer(transformers=[('num',\n",
       "                                                  Pipeline(steps=[('scaler',\n",
       "                                                                   StandardScaler())]),\n",
       "                                                  ['facebook', 'linkedin',\n",
       "                                                   'instagram']),\n",
       "                                                 ('cat',\n",
       "                                                  Pipeline(steps=[('onehot',\n",
       "                                                                   OneHotEncoder(handle_unknown='ignore'))]),\n",
       "                                                  ['source', 'topic']),\n",
       "                                                 ('headline',\n",
       "                                                  Pipeline(steps=[('tfidf',\n",
       "                                                                   TfidfVectorizer())]),\n",
       "                                                  'headline')])),\n",
       "                ('stacked_model',\n",
       "                 StackingRegressor(estimators=[('lr', LinearRegression()),\n",
       "                                               ('rf',\n",
       "                                                RandomForestRegressor(n_estimators=10,\n",
       "                                                                      random_state=42))],\n",
       "                                   final_estimator=RandomForestRegressor(random_state=42)))])"
      ]
     },
     "execution_count": 9,
     "metadata": {},
     "output_type": "execute_result"
    }
   ],
   "source": [
    "# Defining the full pipeline with preprocessing and the stacked model\n",
    "full_pipeline = Pipeline(steps=[\n",
    "    ('preprocessor', preprocessor),\n",
    "    ('stacked_model', stacking_model)\n",
    "])\n",
    "\n",
    "# Fitting the pipeline on training data\n",
    "full_pipeline.fit(X_train, y_train)"
   ]
  },
  {
   "cell_type": "code",
   "execution_count": null,
   "id": "f9224062-eebb-4df2-bfd5-2aa2830cce5e",
   "metadata": {},
   "outputs": [],
   "source": [
    "# Predicting on test data\n",
    "y_pred = full_pipeline.predict(X_test)"
   ]
  },
  {
   "cell_type": "code",
   "execution_count": null,
   "id": "5e1ab7ca-937d-43fb-854c-bc5713b199a1",
   "metadata": {},
   "outputs": [],
   "source": [
    "# Checking model performance on test data\n",
    "mae = mean_absolute_error(y_test, y_pred)\n",
    "print(f\"Mean Absolute Error: {mae}\")"
   ]
  },
  {
   "cell_type": "code",
   "execution_count": null,
   "id": "05d06568-6b19-4c66-b7bc-db6514dd5511",
   "metadata": {},
   "outputs": [],
   "source": []
  }
 ],
 "metadata": {
  "kernelspec": {
   "display_name": "Python3 (OpenVINO Torch-ORT [Beta])",
   "language": "python",
   "name": "openvino_2022.1.0-torch-ort"
  },
  "language_info": {
   "codemirror_mode": {
    "name": "ipython",
    "version": 3
   },
   "file_extension": ".py",
   "mimetype": "text/x-python",
   "name": "python",
   "nbconvert_exporter": "python",
   "pygments_lexer": "ipython3",
   "version": "3.8.0"
  }
 },
 "nbformat": 4,
 "nbformat_minor": 5
}
