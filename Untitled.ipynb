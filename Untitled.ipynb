{
 "cells": [
  {
   "cell_type": "code",
   "execution_count": 17,
   "id": "ee3a094c",
   "metadata": {},
   "outputs": [],
   "source": [
    "import pandas as pd\n",
    "from datetime import datetime\n",
    "import warnings\n",
    "warnings.filterwarnings('ignore')"
   ]
  },
  {
   "cell_type": "code",
   "execution_count": 6,
   "id": "77637614",
   "metadata": {},
   "outputs": [],
   "source": [
    "training_data = pd.read_csv('data/training_data.csv')"
   ]
  },
  {
   "cell_type": "code",
   "execution_count": 7,
   "id": "cb3d9669",
   "metadata": {},
   "outputs": [
    {
     "data": {
      "text/html": [
       "<div>\n",
       "<style scoped>\n",
       "    .dataframe tbody tr th:only-of-type {\n",
       "        vertical-align: middle;\n",
       "    }\n",
       "\n",
       "    .dataframe tbody tr th {\n",
       "        vertical-align: top;\n",
       "    }\n",
       "\n",
       "    .dataframe thead th {\n",
       "        text-align: right;\n",
       "    }\n",
       "</style>\n",
       "<table border=\"1\" class=\"dataframe\">\n",
       "  <thead>\n",
       "    <tr style=\"text-align: right;\">\n",
       "      <th></th>\n",
       "      <th>Date</th>\n",
       "      <th>Open</th>\n",
       "      <th>High</th>\n",
       "      <th>Low</th>\n",
       "      <th>Close</th>\n",
       "      <th>Volume</th>\n",
       "      <th>Stock</th>\n",
       "    </tr>\n",
       "  </thead>\n",
       "  <tbody>\n",
       "    <tr>\n",
       "      <th>0</th>\n",
       "      <td>22-03-2017</td>\n",
       "      <td>63.4170</td>\n",
       "      <td>64.4260</td>\n",
       "      <td>63.4170</td>\n",
       "      <td>64.3160</td>\n",
       "      <td>20909363</td>\n",
       "      <td>MSFT</td>\n",
       "    </tr>\n",
       "    <tr>\n",
       "      <th>1</th>\n",
       "      <td>01-03-2016</td>\n",
       "      <td>107.8300</td>\n",
       "      <td>109.8200</td>\n",
       "      <td>107.6000</td>\n",
       "      <td>109.8200</td>\n",
       "      <td>23852557</td>\n",
       "      <td>FB</td>\n",
       "    </tr>\n",
       "    <tr>\n",
       "      <th>2</th>\n",
       "      <td>14-07-2003</td>\n",
       "      <td>1.2819</td>\n",
       "      <td>1.3065</td>\n",
       "      <td>1.2730</td>\n",
       "      <td>1.2743</td>\n",
       "      <td>52544014</td>\n",
       "      <td>AAPL</td>\n",
       "    </tr>\n",
       "    <tr>\n",
       "      <th>3</th>\n",
       "      <td>13-06-2016</td>\n",
       "      <td>115.0000</td>\n",
       "      <td>115.4800</td>\n",
       "      <td>113.3100</td>\n",
       "      <td>113.9500</td>\n",
       "      <td>30974633</td>\n",
       "      <td>FB</td>\n",
       "    </tr>\n",
       "    <tr>\n",
       "      <th>4</th>\n",
       "      <td>04-10-2007</td>\n",
       "      <td>20.2290</td>\n",
       "      <td>20.2430</td>\n",
       "      <td>19.6570</td>\n",
       "      <td>20.0080</td>\n",
       "      <td>182716015</td>\n",
       "      <td>AAPL</td>\n",
       "    </tr>\n",
       "    <tr>\n",
       "      <th>...</th>\n",
       "      <td>...</td>\n",
       "      <td>...</td>\n",
       "      <td>...</td>\n",
       "      <td>...</td>\n",
       "      <td>...</td>\n",
       "      <td>...</td>\n",
       "      <td>...</td>\n",
       "    </tr>\n",
       "    <tr>\n",
       "      <th>13994</th>\n",
       "      <td>15-05-2017</td>\n",
       "      <td>154.8400</td>\n",
       "      <td>155.4800</td>\n",
       "      <td>153.8900</td>\n",
       "      <td>154.5300</td>\n",
       "      <td>26110341</td>\n",
       "      <td>AAPL</td>\n",
       "    </tr>\n",
       "    <tr>\n",
       "      <th>13995</th>\n",
       "      <td>02-02-2005</td>\n",
       "      <td>22.1290</td>\n",
       "      <td>22.2220</td>\n",
       "      <td>22.0380</td>\n",
       "      <td>22.1900</td>\n",
       "      <td>94983158</td>\n",
       "      <td>MSFT</td>\n",
       "    </tr>\n",
       "    <tr>\n",
       "      <th>13996</th>\n",
       "      <td>03-09-1997</td>\n",
       "      <td>12.9490</td>\n",
       "      <td>13.0660</td>\n",
       "      <td>12.8060</td>\n",
       "      <td>12.8470</td>\n",
       "      <td>56981403</td>\n",
       "      <td>MSFT</td>\n",
       "    </tr>\n",
       "    <tr>\n",
       "      <th>13997</th>\n",
       "      <td>21-05-1997</td>\n",
       "      <td>0.5480</td>\n",
       "      <td>0.5480</td>\n",
       "      <td>0.5276</td>\n",
       "      <td>0.5404</td>\n",
       "      <td>34092886</td>\n",
       "      <td>AAPL</td>\n",
       "    </tr>\n",
       "    <tr>\n",
       "      <th>13998</th>\n",
       "      <td>11-08-2005</td>\n",
       "      <td>5.5566</td>\n",
       "      <td>5.6499</td>\n",
       "      <td>5.5389</td>\n",
       "      <td>5.6347</td>\n",
       "      <td>76003131</td>\n",
       "      <td>AAPL</td>\n",
       "    </tr>\n",
       "  </tbody>\n",
       "</table>\n",
       "<p>13999 rows × 7 columns</p>\n",
       "</div>"
      ],
      "text/plain": [
       "             Date      Open      High       Low     Close     Volume Stock\n",
       "0      22-03-2017   63.4170   64.4260   63.4170   64.3160   20909363  MSFT\n",
       "1      01-03-2016  107.8300  109.8200  107.6000  109.8200   23852557    FB\n",
       "2      14-07-2003    1.2819    1.3065    1.2730    1.2743   52544014  AAPL\n",
       "3      13-06-2016  115.0000  115.4800  113.3100  113.9500   30974633    FB\n",
       "4      04-10-2007   20.2290   20.2430   19.6570   20.0080  182716015  AAPL\n",
       "...           ...       ...       ...       ...       ...        ...   ...\n",
       "13994  15-05-2017  154.8400  155.4800  153.8900  154.5300   26110341  AAPL\n",
       "13995  02-02-2005   22.1290   22.2220   22.0380   22.1900   94983158  MSFT\n",
       "13996  03-09-1997   12.9490   13.0660   12.8060   12.8470   56981403  MSFT\n",
       "13997  21-05-1997    0.5480    0.5480    0.5276    0.5404   34092886  AAPL\n",
       "13998  11-08-2005    5.5566    5.6499    5.5389    5.6347   76003131  AAPL\n",
       "\n",
       "[13999 rows x 7 columns]"
      ]
     },
     "execution_count": 7,
     "metadata": {},
     "output_type": "execute_result"
    }
   ],
   "source": [
    "training_data"
   ]
  },
  {
   "cell_type": "code",
   "execution_count": 14,
   "id": "723e96dd",
   "metadata": {},
   "outputs": [
    {
     "name": "stdout",
     "output_type": "stream",
     "text": [
      "<class 'pandas.core.frame.DataFrame'>\n",
      "RangeIndex: 13999 entries, 0 to 13998\n",
      "Data columns (total 7 columns):\n",
      " #   Column  Non-Null Count  Dtype  \n",
      "---  ------  --------------  -----  \n",
      " 0   Date    13999 non-null  object \n",
      " 1   Open    13999 non-null  float64\n",
      " 2   High    13999 non-null  float64\n",
      " 3   Low     13999 non-null  float64\n",
      " 4   Close   13999 non-null  float64\n",
      " 5   Volume  13999 non-null  int64  \n",
      " 6   Stock   13999 non-null  object \n",
      "dtypes: float64(4), int64(1), object(2)\n",
      "memory usage: 765.7+ KB\n"
     ]
    }
   ],
   "source": [
    "training_data.info()"
   ]
  },
  {
   "cell_type": "code",
   "execution_count": 15,
   "id": "7581d844",
   "metadata": {},
   "outputs": [
    {
     "data": {
      "text/plain": [
       "Date      0\n",
       "Open      0\n",
       "High      0\n",
       "Low       0\n",
       "Close     0\n",
       "Volume    0\n",
       "Stock     0\n",
       "dtype: int64"
      ]
     },
     "execution_count": 15,
     "metadata": {},
     "output_type": "execute_result"
    }
   ],
   "source": [
    "training_data.isna().sum()"
   ]
  },
  {
   "cell_type": "code",
   "execution_count": 18,
   "id": "65568109",
   "metadata": {},
   "outputs": [],
   "source": [
    "training_data[\"Date\"]=pd.to_datetime(training_data[\"Date\"])"
   ]
  },
  {
   "cell_type": "code",
   "execution_count": 19,
   "id": "b240058b",
   "metadata": {},
   "outputs": [
    {
     "name": "stdout",
     "output_type": "stream",
     "text": [
      "<class 'pandas.core.frame.DataFrame'>\n",
      "RangeIndex: 13999 entries, 0 to 13998\n",
      "Data columns (total 7 columns):\n",
      " #   Column  Non-Null Count  Dtype         \n",
      "---  ------  --------------  -----         \n",
      " 0   Date    13999 non-null  datetime64[ns]\n",
      " 1   Open    13999 non-null  float64       \n",
      " 2   High    13999 non-null  float64       \n",
      " 3   Low     13999 non-null  float64       \n",
      " 4   Close   13999 non-null  float64       \n",
      " 5   Volume  13999 non-null  int64         \n",
      " 6   Stock   13999 non-null  object        \n",
      "dtypes: datetime64[ns](1), float64(4), int64(1), object(1)\n",
      "memory usage: 765.7+ KB\n"
     ]
    }
   ],
   "source": [
    "training_data.info()"
   ]
  },
  {
   "cell_type": "code",
   "execution_count": 21,
   "id": "13212777",
   "metadata": {},
   "outputs": [
    {
     "data": {
      "text/plain": [
       "array(['MSFT', 'FB', 'AAPL', 'TSLA'], dtype=object)"
      ]
     },
     "execution_count": 21,
     "metadata": {},
     "output_type": "execute_result"
    }
   ],
   "source": [
    "training_data['Stock'].unique()"
   ]
  },
  {
   "cell_type": "code",
   "execution_count": null,
   "id": "606e24a5",
   "metadata": {},
   "outputs": [],
   "source": []
  }
 ],
 "metadata": {
  "kernelspec": {
   "display_name": "Python 3 (ipykernel)",
   "language": "python",
   "name": "python3"
  },
  "language_info": {
   "codemirror_mode": {
    "name": "ipython",
    "version": 3
   },
   "file_extension": ".py",
   "mimetype": "text/x-python",
   "name": "python",
   "nbconvert_exporter": "python",
   "pygments_lexer": "ipython3",
   "version": "3.10.5"
  }
 },
 "nbformat": 4,
 "nbformat_minor": 5
}
