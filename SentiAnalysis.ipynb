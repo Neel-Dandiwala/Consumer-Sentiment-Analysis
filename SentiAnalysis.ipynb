{
 "cells": [
  {
   "cell_type": "code",
   "execution_count": 3,
   "id": "96deb83f-2427-4c5f-9c98-547d12dd5b38",
   "metadata": {},
   "outputs": [
    {
     "data": {
      "text/html": [
       "<div>\n",
       "<style scoped>\n",
       "    .dataframe tbody tr th:only-of-type {\n",
       "        vertical-align: middle;\n",
       "    }\n",
       "\n",
       "    .dataframe tbody tr th {\n",
       "        vertical-align: top;\n",
       "    }\n",
       "\n",
       "    .dataframe thead th {\n",
       "        text-align: right;\n",
       "    }\n",
       "</style>\n",
       "<table border=\"1\" class=\"dataframe\">\n",
       "  <thead>\n",
       "    <tr style=\"text-align: right;\">\n",
       "      <th></th>\n",
       "      <th>IDLink</th>\n",
       "      <th>Title</th>\n",
       "      <th>Headline</th>\n",
       "      <th>Source</th>\n",
       "      <th>Topic</th>\n",
       "      <th>PublishDate</th>\n",
       "      <th>Facebook</th>\n",
       "      <th>GooglePlus</th>\n",
       "      <th>LinkedIn</th>\n",
       "      <th>SentimentTitle</th>\n",
       "      <th>SentimentHeadline</th>\n",
       "    </tr>\n",
       "  </thead>\n",
       "  <tbody>\n",
       "    <tr>\n",
       "      <th>0</th>\n",
       "      <td>Tr3CMgRv1N</td>\n",
       "      <td>Obama Lays Wreath at Arlington National Cemetery</td>\n",
       "      <td>Obama Lays Wreath at Arlington National Cemete...</td>\n",
       "      <td>USA TODAY</td>\n",
       "      <td>obama</td>\n",
       "      <td>2002-04-02 00:00:00</td>\n",
       "      <td>-1</td>\n",
       "      <td>-1</td>\n",
       "      <td>-1</td>\n",
       "      <td>0.000000</td>\n",
       "      <td>-0.053300</td>\n",
       "    </tr>\n",
       "    <tr>\n",
       "      <th>1</th>\n",
       "      <td>Wc81vGp8qZ</td>\n",
       "      <td>A Look at the Health of the Chinese Economy</td>\n",
       "      <td>Tim Haywood, investment director business-unit...</td>\n",
       "      <td>Bloomberg</td>\n",
       "      <td>economy</td>\n",
       "      <td>2008-09-20 00:00:00</td>\n",
       "      <td>-1</td>\n",
       "      <td>-1</td>\n",
       "      <td>-1</td>\n",
       "      <td>0.208333</td>\n",
       "      <td>-0.156386</td>\n",
       "    </tr>\n",
       "    <tr>\n",
       "      <th>2</th>\n",
       "      <td>zNGH03CrZH</td>\n",
       "      <td>Nouriel Roubini: Global Economy Not Back to 2008</td>\n",
       "      <td>Nouriel Roubini, NYU professor and chairman at...</td>\n",
       "      <td>Bloomberg</td>\n",
       "      <td>economy</td>\n",
       "      <td>2012-01-28 00:00:00</td>\n",
       "      <td>-1</td>\n",
       "      <td>-1</td>\n",
       "      <td>-1</td>\n",
       "      <td>-0.425210</td>\n",
       "      <td>0.139754</td>\n",
       "    </tr>\n",
       "    <tr>\n",
       "      <th>3</th>\n",
       "      <td>3sM1H0W8ts</td>\n",
       "      <td>Finland GDP Expands In Q4</td>\n",
       "      <td>Finland's economy expanded marginally in the t...</td>\n",
       "      <td>RTT News</td>\n",
       "      <td>economy</td>\n",
       "      <td>2015-03-01 00:06:00</td>\n",
       "      <td>-1</td>\n",
       "      <td>-1</td>\n",
       "      <td>-1</td>\n",
       "      <td>0.000000</td>\n",
       "      <td>0.026064</td>\n",
       "    </tr>\n",
       "    <tr>\n",
       "      <th>4</th>\n",
       "      <td>wUbnxgvqaZ</td>\n",
       "      <td>Tourism, govt spending buoys Thai economy in J...</td>\n",
       "      <td>Tourism and public spending continued to boost...</td>\n",
       "      <td>The Nation - Thailand&amp;#39;s English news</td>\n",
       "      <td>economy</td>\n",
       "      <td>2015-03-01 00:11:00</td>\n",
       "      <td>-1</td>\n",
       "      <td>-1</td>\n",
       "      <td>-1</td>\n",
       "      <td>0.000000</td>\n",
       "      <td>0.141084</td>\n",
       "    </tr>\n",
       "  </tbody>\n",
       "</table>\n",
       "</div>"
      ],
      "text/plain": [
       "       IDLink                                              Title  \\\n",
       "0  Tr3CMgRv1N   Obama Lays Wreath at Arlington National Cemetery   \n",
       "1  Wc81vGp8qZ        A Look at the Health of the Chinese Economy   \n",
       "2  zNGH03CrZH   Nouriel Roubini: Global Economy Not Back to 2008   \n",
       "3  3sM1H0W8ts                          Finland GDP Expands In Q4   \n",
       "4  wUbnxgvqaZ  Tourism, govt spending buoys Thai economy in J...   \n",
       "\n",
       "                                            Headline  \\\n",
       "0  Obama Lays Wreath at Arlington National Cemete...   \n",
       "1  Tim Haywood, investment director business-unit...   \n",
       "2  Nouriel Roubini, NYU professor and chairman at...   \n",
       "3  Finland's economy expanded marginally in the t...   \n",
       "4  Tourism and public spending continued to boost...   \n",
       "\n",
       "                                     Source    Topic          PublishDate  \\\n",
       "0                                 USA TODAY    obama  2002-04-02 00:00:00   \n",
       "1                                 Bloomberg  economy  2008-09-20 00:00:00   \n",
       "2                                 Bloomberg  economy  2012-01-28 00:00:00   \n",
       "3                                  RTT News  economy  2015-03-01 00:06:00   \n",
       "4  The Nation - Thailand&#39;s English news  economy  2015-03-01 00:11:00   \n",
       "\n",
       "   Facebook  GooglePlus  LinkedIn  SentimentTitle  SentimentHeadline  \n",
       "0        -1          -1        -1        0.000000          -0.053300  \n",
       "1        -1          -1        -1        0.208333          -0.156386  \n",
       "2        -1          -1        -1       -0.425210           0.139754  \n",
       "3        -1          -1        -1        0.000000           0.026064  \n",
       "4        -1          -1        -1        0.000000           0.141084  "
      ]
     },
     "execution_count": 3,
     "metadata": {},
     "output_type": "execute_result"
    }
   ],
   "source": [
    "import pandas as pd\n",
    "df=messages = pd.read_csv('train_file.csv', sep=',')\n",
    "df.head()\n",
    "     "
   ]
  },
  {
   "cell_type": "code",
   "execution_count": 5,
   "id": "f1100b82-b504-4b22-b8ec-4f826ee4b793",
   "metadata": {},
   "outputs": [],
   "source": [
    "X_title=list(df['Title'])"
   ]
  },
  {
   "cell_type": "code",
   "execution_count": null,
   "id": "bd5ad614-bb90-4851-bc1e-63653537dcd2",
   "metadata": {},
   "outputs": [],
   "source": [
    "X_title"
   ]
  },
  {
   "cell_type": "code",
   "execution_count": 7,
   "id": "47606b2a-c960-4183-a4a7-2124ef06af9f",
   "metadata": {},
   "outputs": [],
   "source": [
    "X_headline=list(df['Headline'])"
   ]
  },
  {
   "cell_type": "code",
   "execution_count": 8,
   "id": "7e4e53a7-3c03-44ad-9c9f-b7349be94997",
   "metadata": {},
   "outputs": [],
   "source": [
    "Y_title=list(df['SentimentTitle'])"
   ]
  },
  {
   "cell_type": "code",
   "execution_count": 9,
   "id": "5f0fab39-38f2-4148-8063-9012c0f421c2",
   "metadata": {},
   "outputs": [],
   "source": [
    "Y_headline=list(df['SentimentHeadline'])"
   ]
  },
  {
   "cell_type": "code",
   "execution_count": null,
   "id": "81b31d8d-d939-4d93-9961-e1070ae4d1ff",
   "metadata": {},
   "outputs": [],
   "source": [
    "X_headline"
   ]
  },
  {
   "cell_type": "code",
   "execution_count": 11,
   "id": "576030a7-e4f8-4f25-9a4f-a0e62d15297d",
   "metadata": {},
   "outputs": [
    {
     "data": {
      "text/plain": [
       "IDLink                 0\n",
       "Title                  0\n",
       "Headline               0\n",
       "Source               175\n",
       "Topic                  0\n",
       "PublishDate            0\n",
       "Facebook               0\n",
       "GooglePlus             0\n",
       "LinkedIn               0\n",
       "SentimentTitle         0\n",
       "SentimentHeadline      0\n",
       "dtype: int64"
      ]
     },
     "execution_count": 11,
     "metadata": {},
     "output_type": "execute_result"
    }
   ],
   "source": [
    "df.isna().sum()"
   ]
  },
  {
   "cell_type": "code",
   "execution_count": 12,
   "id": "4bdaf86d-46bb-4756-bc36-c7817f5088b6",
   "metadata": {},
   "outputs": [],
   "source": [
    "df=df.dropna()"
   ]
  },
  {
   "cell_type": "code",
   "execution_count": 13,
   "id": "f365e9f0-4555-4adf-a41a-a0ed6209eb85",
   "metadata": {},
   "outputs": [
    {
     "data": {
      "text/plain": [
       "IDLink               0\n",
       "Title                0\n",
       "Headline             0\n",
       "Source               0\n",
       "Topic                0\n",
       "PublishDate          0\n",
       "Facebook             0\n",
       "GooglePlus           0\n",
       "LinkedIn             0\n",
       "SentimentTitle       0\n",
       "SentimentHeadline    0\n",
       "dtype: int64"
      ]
     },
     "execution_count": 13,
     "metadata": {},
     "output_type": "execute_result"
    }
   ],
   "source": [
    "df.isna().sum()"
   ]
  },
  {
   "cell_type": "code",
   "execution_count": 14,
   "id": "b8f50d51-5b92-4a3a-be84-2e2247c2d74a",
   "metadata": {},
   "outputs": [
    {
     "data": {
      "text/html": [
       "<div>\n",
       "<style scoped>\n",
       "    .dataframe tbody tr th:only-of-type {\n",
       "        vertical-align: middle;\n",
       "    }\n",
       "\n",
       "    .dataframe tbody tr th {\n",
       "        vertical-align: top;\n",
       "    }\n",
       "\n",
       "    .dataframe thead th {\n",
       "        text-align: right;\n",
       "    }\n",
       "</style>\n",
       "<table border=\"1\" class=\"dataframe\">\n",
       "  <thead>\n",
       "    <tr style=\"text-align: right;\">\n",
       "      <th></th>\n",
       "      <th>IDLink</th>\n",
       "      <th>Title</th>\n",
       "      <th>Headline</th>\n",
       "      <th>Source</th>\n",
       "      <th>Topic</th>\n",
       "      <th>PublishDate</th>\n",
       "      <th>Facebook</th>\n",
       "      <th>GooglePlus</th>\n",
       "      <th>LinkedIn</th>\n",
       "    </tr>\n",
       "  </thead>\n",
       "  <tbody>\n",
       "    <tr>\n",
       "      <th>0</th>\n",
       "      <td>tFrqIR6Chj</td>\n",
       "      <td>Sliding Economy: FG fights back with N3trn TSA...</td>\n",
       "      <td>With the 2016 budget now passed by the Nationa...</td>\n",
       "      <td>BusinessDay</td>\n",
       "      <td>economy</td>\n",
       "      <td>2016-03-29 01:41:12</td>\n",
       "      <td>0</td>\n",
       "      <td>0</td>\n",
       "      <td>1</td>\n",
       "    </tr>\n",
       "    <tr>\n",
       "      <th>1</th>\n",
       "      <td>DVAaGErjlF</td>\n",
       "      <td>Microsoft shows how HoloLens can bring distant...</td>\n",
       "      <td>A recent Microsoft Research video shows how th...</td>\n",
       "      <td>Daily Mail</td>\n",
       "      <td>microsoft</td>\n",
       "      <td>2016-03-29 01:41:27</td>\n",
       "      <td>121</td>\n",
       "      <td>2</td>\n",
       "      <td>13</td>\n",
       "    </tr>\n",
       "    <tr>\n",
       "      <th>2</th>\n",
       "      <td>OT9UIZm5M2</td>\n",
       "      <td>Microsoft’s Twitter Robot Praises Hitler, Trum...</td>\n",
       "      <td>* Microsoft teamed with Bing to create TayTwee...</td>\n",
       "      <td>EURweb</td>\n",
       "      <td>microsoft</td>\n",
       "      <td>2016-03-29 01:47:00</td>\n",
       "      <td>12</td>\n",
       "      <td>1</td>\n",
       "      <td>0</td>\n",
       "    </tr>\n",
       "    <tr>\n",
       "      <th>3</th>\n",
       "      <td>lflGp3q2Fj</td>\n",
       "      <td>Flood of Central Bank Moves Can't Get World Ec...</td>\n",
       "      <td>Central bankers have managed to steer the worl...</td>\n",
       "      <td>Bloomberg via Yahoo! Finance</td>\n",
       "      <td>economy</td>\n",
       "      <td>2016-03-29 02:00:00</td>\n",
       "      <td>0</td>\n",
       "      <td>0</td>\n",
       "      <td>3</td>\n",
       "    </tr>\n",
       "    <tr>\n",
       "      <th>4</th>\n",
       "      <td>zDYG0SoovZ</td>\n",
       "      <td>USD/JPY: bears lining up on mixed U.S. economy...</td>\n",
       "      <td>However, this streak of seven-day gains might ...</td>\n",
       "      <td>FXStreet</td>\n",
       "      <td>economy</td>\n",
       "      <td>2016-03-29 02:01:07</td>\n",
       "      <td>3</td>\n",
       "      <td>0</td>\n",
       "      <td>0</td>\n",
       "    </tr>\n",
       "  </tbody>\n",
       "</table>\n",
       "</div>"
      ],
      "text/plain": [
       "       IDLink                                              Title  \\\n",
       "0  tFrqIR6Chj  Sliding Economy: FG fights back with N3trn TSA...   \n",
       "1  DVAaGErjlF  Microsoft shows how HoloLens can bring distant...   \n",
       "2  OT9UIZm5M2  Microsoft’s Twitter Robot Praises Hitler, Trum...   \n",
       "3  lflGp3q2Fj  Flood of Central Bank Moves Can't Get World Ec...   \n",
       "4  zDYG0SoovZ  USD/JPY: bears lining up on mixed U.S. economy...   \n",
       "\n",
       "                                            Headline  \\\n",
       "0  With the 2016 budget now passed by the Nationa...   \n",
       "1  A recent Microsoft Research video shows how th...   \n",
       "2  * Microsoft teamed with Bing to create TayTwee...   \n",
       "3  Central bankers have managed to steer the worl...   \n",
       "4  However, this streak of seven-day gains might ...   \n",
       "\n",
       "                         Source      Topic          PublishDate  Facebook  \\\n",
       "0                   BusinessDay    economy  2016-03-29 01:41:12         0   \n",
       "1                    Daily Mail  microsoft  2016-03-29 01:41:27       121   \n",
       "2                        EURweb  microsoft  2016-03-29 01:47:00        12   \n",
       "3  Bloomberg via Yahoo! Finance    economy  2016-03-29 02:00:00         0   \n",
       "4                      FXStreet    economy  2016-03-29 02:01:07         3   \n",
       "\n",
       "   GooglePlus  LinkedIn  \n",
       "0           0         1  \n",
       "1           2        13  \n",
       "2           1         0  \n",
       "3           0         3  \n",
       "4           0         0  "
      ]
     },
     "execution_count": 14,
     "metadata": {},
     "output_type": "execute_result"
    }
   ],
   "source": [
    "df_test=messages = pd.read_csv('test_file.csv', sep=',')\n",
    "df_test.head()"
   ]
  },
  {
   "cell_type": "code",
   "execution_count": 17,
   "id": "a7c3c7c4-0f39-4f56-b45e-69b5bf9ba99b",
   "metadata": {},
   "outputs": [],
   "source": [
    "X_test_title=list(df_test['Title'])"
   ]
  },
  {
   "cell_type": "code",
   "execution_count": null,
   "id": "515db349-0dff-43eb-b422-3106e3cc8f79",
   "metadata": {},
   "outputs": [],
   "source": [
    "X_test_title"
   ]
  },
  {
   "cell_type": "code",
   "execution_count": null,
   "id": "43606987-e429-4e7e-afed-9bf177900de0",
   "metadata": {},
   "outputs": [],
   "source": [
    "X_testheadline=list(df_test['Headline'])\n",
    "Y_title=list(df_test['SentimentTitle'])\n",
    "Y_headline=list(df_test['SentimentHeadline'])"
   ]
  },
  {
   "cell_type": "code",
   "execution_count": 21,
   "id": "11ba97ac-b7c9-4cbe-b7ea-ad0dd88e5f7b",
   "metadata": {},
   "outputs": [],
   "source": [
    "from sklearn.model_selection import train_test_split\n",
    "\n",
    "X_train_title, X_test_title, Y_train_title, Y_test_title = train_test_split(X_title, Y_title, test_size = 0.20, random_state = 0)\n",
    "\n",
    "X_train_headline, X_test_headline, Y_train_headline, Y_test_headline = train_test_split(X_headline, Y_headline, test_size = 0.20, random_state = 0)"
   ]
  },
  {
   "cell_type": "code",
   "execution_count": null,
   "id": "a150ceda-821e-468c-9937-44e453ad0e9a",
   "metadata": {},
   "outputs": [],
   "source": [
    "X_test_title"
   ]
  },
  {
   "cell_type": "code",
   "execution_count": 32,
   "id": "73c6f170-472b-43b9-adaa-7bfd6e3c6bad",
   "metadata": {},
   "outputs": [
    {
     "name": "stdout",
     "output_type": "stream",
     "text": [
      "Defaulting to user installation because normal site-packages is not writeable\n",
      "Requirement already satisfied: transformers in ./.local/lib/python3.9/site-packages (4.27.3)\n",
      "Requirement already satisfied: tokenizers!=0.11.3,<0.14,>=0.11.1 in ./.local/lib/python3.9/site-packages (from transformers) (0.13.2)\n",
      "Requirement already satisfied: tqdm>=4.27 in /glob/development-tools/versions/oneapi/2023.0.1/oneapi/intelpython/python3.9/lib/python3.9/site-packages (from transformers) (4.64.0)\n",
      "Requirement already satisfied: pyyaml>=5.1 in /glob/development-tools/versions/oneapi/2023.0.1/oneapi/intelpython/python3.9/lib/python3.9/site-packages (from transformers) (6.0)\n",
      "Requirement already satisfied: filelock in ./.local/lib/python3.9/site-packages (from transformers) (3.10.7)\n",
      "Requirement already satisfied: huggingface-hub<1.0,>=0.11.0 in ./.local/lib/python3.9/site-packages (from transformers) (0.13.3)\n",
      "Requirement already satisfied: regex!=2019.12.17 in ./.local/lib/python3.9/site-packages (from transformers) (2023.3.23)\n",
      "Requirement already satisfied: packaging>=20.0 in /glob/development-tools/versions/oneapi/2023.0.1/oneapi/intelpython/python3.9/lib/python3.9/site-packages (from transformers) (21.3)\n",
      "Requirement already satisfied: requests in /glob/development-tools/versions/oneapi/2023.0.1/oneapi/intelpython/python3.9/lib/python3.9/site-packages (from transformers) (2.28.1)\n",
      "Requirement already satisfied: numpy>=1.17 in /glob/development-tools/versions/oneapi/2023.0.1/oneapi/intelpython/python3.9/lib/python3.9/site-packages (from transformers) (1.22.3)\n",
      "Requirement already satisfied: typing-extensions>=3.7.4.3 in ./.local/lib/python3.9/site-packages (from huggingface-hub<1.0,>=0.11.0->transformers) (4.5.0)\n",
      "Requirement already satisfied: pyparsing!=3.0.5,>=2.0.2 in /glob/development-tools/versions/oneapi/2023.0.1/oneapi/intelpython/python3.9/lib/python3.9/site-packages (from packaging>=20.0->transformers) (3.0.9)\n",
      "Requirement already satisfied: certifi>=2017.4.17 in /glob/development-tools/versions/oneapi/2023.0.1/oneapi/intelpython/python3.9/lib/python3.9/site-packages (from requests->transformers) (2022.9.24)\n",
      "Requirement already satisfied: charset-normalizer<3,>=2 in /glob/development-tools/versions/oneapi/2023.0.1/oneapi/intelpython/python3.9/lib/python3.9/site-packages (from requests->transformers) (2.0.4)\n",
      "Requirement already satisfied: urllib3<1.27,>=1.21.1 in /glob/development-tools/versions/oneapi/2023.0.1/oneapi/intelpython/python3.9/lib/python3.9/site-packages (from requests->transformers) (1.26.12)\n",
      "Requirement already satisfied: idna<4,>=2.5 in /glob/development-tools/versions/oneapi/2023.0.1/oneapi/intelpython/python3.9/lib/python3.9/site-packages (from requests->transformers) (3.4)\n",
      "Note: you may need to restart the kernel to use updated packages.\n"
     ]
    }
   ],
   "source": [
    "pip install transformers\n"
   ]
  },
  {
   "cell_type": "code",
   "execution_count": 33,
   "id": "414c3b53-d3eb-4067-9482-2e9689870c2a",
   "metadata": {},
   "outputs": [
    {
     "ename": "ModuleNotFoundError",
     "evalue": "No module named 'transformers'",
     "output_type": "error",
     "traceback": [
      "\u001b[0;31m---------------------------------------------------------------------------\u001b[0m",
      "\u001b[0;31mModuleNotFoundError\u001b[0m                       Traceback (most recent call last)",
      "Cell \u001b[0;32mIn[33], line 1\u001b[0m\n\u001b[0;32m----> 1\u001b[0m \u001b[38;5;28;01mfrom\u001b[39;00m \u001b[38;5;21;01mtransformers\u001b[39;00m \u001b[38;5;28;01mimport\u001b[39;00m DistilBertTokenizerFast\n\u001b[1;32m      2\u001b[0m tokenizer \u001b[38;5;241m=\u001b[39m DistilBertTokenizerFast\u001b[38;5;241m.\u001b[39mfrom_pretrained(\u001b[38;5;124m'\u001b[39m\u001b[38;5;124mdistilbert-base-uncased\u001b[39m\u001b[38;5;124m'\u001b[39m)\n",
      "\u001b[0;31mModuleNotFoundError\u001b[0m: No module named 'transformers'"
     ]
    }
   ],
   "source": [
    "from transformers import DistilBertTokenizerFast\n",
    "tokenizer = DistilBertTokenizerFast.from_pretrained('distilbert-base-uncased')"
   ]
  },
  {
   "cell_type": "code",
   "execution_count": null,
   "id": "2f427f89-d78a-4a50-ad2d-321ee15946cf",
   "metadata": {},
   "outputs": [],
   "source": []
  }
 ],
 "metadata": {
  "kernelspec": {
   "display_name": "Python 3 (Intel® oneAPI 2023.0)",
   "language": "python",
   "name": "c009-intel_distribution_of_python_3_oneapi-beta05-python"
  },
  "language_info": {
   "codemirror_mode": {
    "name": "ipython",
    "version": 3
   },
   "file_extension": ".py",
   "mimetype": "text/x-python",
   "name": "python",
   "nbconvert_exporter": "python",
   "pygments_lexer": "ipython3",
   "version": "3.9.15"
  }
 },
 "nbformat": 4,
 "nbformat_minor": 5
}
