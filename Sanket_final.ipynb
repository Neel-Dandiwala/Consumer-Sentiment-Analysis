{
 "cells": [
  {
   "cell_type": "code",
   "execution_count": 1,
   "id": "61198823-4fcc-43f5-9b61-f8dda8d532a6",
   "metadata": {},
   "outputs": [],
   "source": [
    "import pandas as pd\n",
    "from sklearn.feature_extraction.text import CountVectorizer\n",
    "from sklearn.naive_bayes import MultinomialNB\n",
    "from sklearn.metrics import accuracy_score"
   ]
  },
  {
   "cell_type": "code",
   "execution_count": 2,
   "id": "bba378c2-de20-4cc3-871d-a137edc3a43e",
   "metadata": {},
   "outputs": [],
   "source": [
    "# Read the train and test datasets\n",
    "train_data = pd.read_csv(\"train_file.csv\")\n",
    "test_data = pd.read_csv(\"test_file.csv\")"
   ]
  },
  {
   "cell_type": "code",
   "execution_count": 3,
   "id": "209ce136-c88b-4633-9f21-f33d78c9730c",
   "metadata": {},
   "outputs": [
    {
     "name": "stderr",
     "output_type": "stream",
     "text": [
      "[nltk_data] Downloading package stopwords to\n",
      "[nltk_data]     /home/u189689/nltk_data...\n",
      "[nltk_data]   Package stopwords is already up-to-date!\n"
     ]
    }
   ],
   "source": [
    "import string\n",
    "import nltk\n",
    "from nltk.corpus import stopwords\n",
    "\n",
    "nltk.download('stopwords')\n",
    "stop_words = set(stopwords.words('english'))"
   ]
  },
  {
   "cell_type": "code",
   "execution_count": 4,
   "id": "849e2559-43c8-4b0d-b4b8-0f80b48f68b1",
   "metadata": {},
   "outputs": [],
   "source": [
    "def preprocess_text(text):\n",
    "    text = text.lower()\n",
    "    text = text.translate(str.maketrans('', '', string.punctuation))\n",
    "    words = text.split()\n",
    "    words = [word for word in words if word not in stop_words]\n",
    "    return ' '.join(words)"
   ]
  },
  {
   "cell_type": "code",
   "execution_count": 5,
   "id": "c00547e5-911e-4cb6-9fe7-867df7294007",
   "metadata": {},
   "outputs": [],
   "source": [
    "train_data['processed_title'] = train_data['Title'].apply(preprocess_text)\n",
    "test_data['processed_title'] = test_data['Title'].apply(preprocess_text)"
   ]
  },
  {
   "cell_type": "code",
   "execution_count": 6,
   "id": "aab09d08-8590-4bcb-b350-37dc30010c46",
   "metadata": {},
   "outputs": [],
   "source": [
    "train_data['processed_headline'] = train_data['Headline'].apply(preprocess_text)\n",
    "test_data['processed_headline'] = test_data['Headline'].apply(preprocess_text)"
   ]
  },
  {
   "cell_type": "code",
   "execution_count": 7,
   "id": "c3c1f799-d3dc-4694-b927-8b54d697bb08",
   "metadata": {},
   "outputs": [],
   "source": [
    "# Concatenate the processed title and headline into a single feature\n",
    "train_data['text'] = train_data['processed_title'] + ' ' + train_data['processed_headline']\n",
    "test_data['text'] = test_data['processed_title'] + ' ' + test_data['processed_headline']"
   ]
  },
  {
   "cell_type": "code",
   "execution_count": 8,
   "id": "ac74315f-3012-4bdf-8e4d-9e32538996a2",
   "metadata": {},
   "outputs": [],
   "source": [
    "vectorizer = CountVectorizer()\n",
    "X_train = vectorizer.fit_transform(train_data['text'])\n",
    "X_test = vectorizer.transform(test_data['text'])"
   ]
  },
  {
   "cell_type": "code",
   "execution_count": 9,
   "id": "9c5f5cb7-f1b3-445b-954e-63ad51c425cf",
   "metadata": {},
   "outputs": [],
   "source": [
    "train_data['sentiment_title_label'] = train_data['SentimentTitle'].apply(lambda x: 1 if x >= 0 else 0)\n",
    "train_data['sentiment_headline_label'] = train_data['SentimentHeadline'].apply(lambda x: 1 if x >= 0 else 0)"
   ]
  },
  {
   "cell_type": "code",
   "execution_count": 10,
   "id": "1ff62117-50bf-4228-84d8-a7a259f2a8ea",
   "metadata": {},
   "outputs": [],
   "source": [
    "# Combined the sentiment labels for title and headline into a single label\n",
    "train_data['sentiment_label'] = train_data.apply(lambda x: x['sentiment_title_label'] if x['sentiment_title_label'] != 0 else x['sentiment_headline_label'], axis=1)"
   ]
  },
  {
   "cell_type": "code",
   "execution_count": 11,
   "id": "54ec8060-f6cf-4a61-a7cf-e6770c440dc0",
   "metadata": {},
   "outputs": [
    {
     "data": {
      "text/plain": [
       "MultinomialNB()"
      ]
     },
     "execution_count": 11,
     "metadata": {},
     "output_type": "execute_result"
    }
   ],
   "source": [
    "model = MultinomialNB()\n",
    "model.fit(X_train, train_data['sentiment_label'])"
   ]
  },
  {
   "cell_type": "code",
   "execution_count": 12,
   "id": "bbed5363-a54b-47ed-958e-a948e2094e9a",
   "metadata": {},
   "outputs": [],
   "source": [
    "test_data['predicted_sentiment_label'] = model.predict(X_test)"
   ]
  },
  {
   "cell_type": "code",
   "execution_count": 16,
   "id": "59f3b0ce-bb06-4b0d-be31-7559a5beb422",
   "metadata": {},
   "outputs": [],
   "source": [
    "# Splited the training data into a training set and a validation set\n",
    "from sklearn.model_selection import train_test_split\n",
    "X_train, X_val, y_train, y_val = train_test_split(X_train, train_data['sentiment_label'], test_size=0.2, random_state=42)"
   ]
  },
  {
   "cell_type": "code",
   "execution_count": 17,
   "id": "397b59a1-d0b2-4762-86a1-b78f4ad3b535",
   "metadata": {},
   "outputs": [
    {
     "data": {
      "text/plain": [
       "MultinomialNB()"
      ]
     },
     "execution_count": 17,
     "metadata": {},
     "output_type": "execute_result"
    }
   ],
   "source": [
    "# Train the model on the training set\n",
    "model = MultinomialNB()\n",
    "model.fit(X_train, y_train)"
   ]
  },
  {
   "cell_type": "code",
   "execution_count": 18,
   "id": "2f244061-9ade-4496-b3e0-085aa6755895",
   "metadata": {},
   "outputs": [],
   "source": [
    "# Predict the sentiment labels for the validation set\n",
    "y_pred = model.predict(X_val)"
   ]
  },
  {
   "cell_type": "code",
   "execution_count": 19,
   "id": "ad8bd927-23c6-456c-9039-1089d94ffe37",
   "metadata": {},
   "outputs": [
    {
     "name": "stdout",
     "output_type": "stream",
     "text": [
      "Accuracy: 0.7454187896665773\n"
     ]
    }
   ],
   "source": [
    "# The accuracy score of the model on the validation set\n",
    "accuracy = accuracy_score(y_val, y_pred)\n",
    "print('Accuracy:', accuracy)"
   ]
  },
  {
   "cell_type": "code",
   "execution_count": null,
   "id": "c63b2956-3278-4755-9bb0-bc6c29aa1820",
   "metadata": {},
   "outputs": [],
   "source": []
  }
 ],
 "metadata": {
  "kernelspec": {
   "display_name": "Python3 (OpenVINO Torch-ORT [Beta])",
   "language": "python",
   "name": "openvino_2022.1.0-torch-ort"
  },
  "language_info": {
   "codemirror_mode": {
    "name": "ipython",
    "version": 3
   },
   "file_extension": ".py",
   "mimetype": "text/x-python",
   "name": "python",
   "nbconvert_exporter": "python",
   "pygments_lexer": "ipython3",
   "version": "3.8.0"
  }
 },
 "nbformat": 4,
 "nbformat_minor": 5
}
