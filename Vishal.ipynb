{
 "cells": [
  {
   "cell_type": "code",
   "execution_count": 1,
   "metadata": {
    "colab": {
     "base_uri": "https://localhost:8080/"
    },
    "id": "nO5TZ5o-SXYw",
    "outputId": "fefd053c-e90c-45db-a0b9-2f3ac0bd771f"
   },
   "outputs": [
    {
     "name": "stdout",
     "output_type": "stream",
     "text": [
      "Defaulting to user installation because normal site-packages is not writeable\n",
      "Requirement already satisfied: snorkel in /home/u189553/.local/lib/python3.6/site-packages (0.9.9)\n",
      "Requirement already satisfied: scikit-learn>=0.20.2 in /usr/local/lib/python3.6/dist-packages (from snorkel) (0.24.2)\n",
      "Requirement already satisfied: tensorboard>=2.9.1 in /home/u189553/.local/lib/python3.6/site-packages (from snorkel) (2.10.1)\n",
      "Requirement already satisfied: munkres>=1.0.6 in /home/u189553/.local/lib/python3.6/site-packages (from snorkel) (1.1.4)\n",
      "Requirement already satisfied: numpy>=1.16.5 in /usr/local/lib/python3.6/dist-packages (from snorkel) (1.18.5)\n",
      "Requirement already satisfied: pandas>=1.0.0 in /usr/local/lib/python3.6/dist-packages/pandas-1.1.5-py3.6-linux-x86_64.egg (from snorkel) (1.1.5)\n",
      "Requirement already satisfied: torch>=1.2.0 in /usr/local/lib/python3.6/dist-packages (from snorkel) (1.4.0)\n",
      "Requirement already satisfied: tqdm>=4.33.0 in /usr/local/lib/python3.6/dist-packages/tqdm-4.62.3-py3.6.egg (from snorkel) (4.62.3)\n",
      "Requirement already satisfied: scipy>=1.2.0 in /usr/local/lib/python3.6/dist-packages/scipy-1.5.4-py3.6-linux-x86_64.egg (from snorkel) (1.5.4)\n",
      "Requirement already satisfied: networkx>=2.2 in /usr/local/lib/python3.6/dist-packages (from snorkel) (2.5.1)\n",
      "Requirement already satisfied: decorator<5,>=4.3 in /usr/local/lib/python3.6/dist-packages (from networkx>=2.2->snorkel) (4.4.2)\n",
      "Requirement already satisfied: python-dateutil>=2.7.3 in /usr/local/lib/python3.6/dist-packages (from pandas>=1.0.0->snorkel) (2.8.2)\n",
      "Requirement already satisfied: pytz>=2017.2 in /usr/local/lib/python3.6/dist-packages/pytz-2021.3-py3.6.egg (from pandas>=1.0.0->snorkel) (2021.3)\n",
      "Requirement already satisfied: threadpoolctl>=2.0.0 in /usr/local/lib/python3.6/dist-packages (from scikit-learn>=0.20.2->snorkel) (3.0.0)\n",
      "Requirement already satisfied: joblib>=0.11 in /usr/local/lib/python3.6/dist-packages (from scikit-learn>=0.20.2->snorkel) (1.1.0)\n",
      "Requirement already satisfied: absl-py>=0.4 in /usr/local/lib/python3.6/dist-packages (from tensorboard>=2.9.1->snorkel) (0.15.0)\n",
      "Requirement already satisfied: wheel>=0.26 in /usr/local/lib/python3.6/dist-packages (from tensorboard>=2.9.1->snorkel) (0.37.0)\n",
      "Requirement already satisfied: google-auth-oauthlib<0.5,>=0.4.1 in /usr/local/lib/python3.6/dist-packages (from tensorboard>=2.9.1->snorkel) (0.4.6)\n",
      "Requirement already satisfied: setuptools>=41.0.0 in /usr/local/lib/python3.6/dist-packages (from tensorboard>=2.9.1->snorkel) (59.1.1)\n",
      "Requirement already satisfied: protobuf<3.20,>=3.9.2 in /usr/local/lib/python3.6/dist-packages (from tensorboard>=2.9.1->snorkel) (3.19.1)\n",
      "Requirement already satisfied: tensorboard-plugin-wit>=1.6.0 in /usr/local/lib/python3.6/dist-packages (from tensorboard>=2.9.1->snorkel) (1.8.0)\n",
      "Requirement already satisfied: google-auth<3,>=1.6.3 in /usr/local/lib/python3.6/dist-packages (from tensorboard>=2.9.1->snorkel) (2.3.3)\n",
      "Requirement already satisfied: grpcio>=1.24.3 in /usr/local/lib/python3.6/dist-packages (from tensorboard>=2.9.1->snorkel) (1.32.0)\n",
      "Requirement already satisfied: requests<3,>=2.21.0 in /usr/local/lib/python3.6/dist-packages (from tensorboard>=2.9.1->snorkel) (2.26.0)\n",
      "Requirement already satisfied: tensorboard-data-server<0.7.0,>=0.6.0 in /usr/local/lib/python3.6/dist-packages (from tensorboard>=2.9.1->snorkel) (0.6.1)\n",
      "Requirement already satisfied: werkzeug>=1.0.1 in /usr/local/lib/python3.6/dist-packages (from tensorboard>=2.9.1->snorkel) (2.0.2)\n",
      "Requirement already satisfied: markdown>=2.6.8 in /usr/local/lib/python3.6/dist-packages (from tensorboard>=2.9.1->snorkel) (3.3.6)\n",
      "Requirement already satisfied: six in /usr/local/lib/python3.6/dist-packages (from absl-py>=0.4->tensorboard>=2.9.1->snorkel) (1.15.0)\n",
      "Requirement already satisfied: cachetools<5.0,>=2.0.0 in /usr/local/lib/python3.6/dist-packages (from google-auth<3,>=1.6.3->tensorboard>=2.9.1->snorkel) (4.2.4)\n",
      "Requirement already satisfied: pyasn1-modules>=0.2.1 in /usr/local/lib/python3.6/dist-packages (from google-auth<3,>=1.6.3->tensorboard>=2.9.1->snorkel) (0.2.8)\n",
      "Requirement already satisfied: rsa<5,>=3.1.4 in /usr/local/lib/python3.6/dist-packages (from google-auth<3,>=1.6.3->tensorboard>=2.9.1->snorkel) (4.7.2)\n",
      "Requirement already satisfied: requests-oauthlib>=0.7.0 in /usr/local/lib/python3.6/dist-packages (from google-auth-oauthlib<0.5,>=0.4.1->tensorboard>=2.9.1->snorkel) (1.3.0)\n",
      "Requirement already satisfied: importlib-metadata>=4.4 in /usr/local/lib/python3.6/dist-packages (from markdown>=2.6.8->tensorboard>=2.9.1->snorkel) (4.8.2)\n",
      "Requirement already satisfied: idna<4,>=2.5 in /usr/lib/python3/dist-packages (from requests<3,>=2.21.0->tensorboard>=2.9.1->snorkel) (2.6)\n",
      "Requirement already satisfied: urllib3<1.27,>=1.21.1 in /usr/local/lib/python3.6/dist-packages (from requests<3,>=2.21.0->tensorboard>=2.9.1->snorkel) (1.26.7)\n",
      "Requirement already satisfied: charset-normalizer~=2.0.0 in /usr/local/lib/python3.6/dist-packages (from requests<3,>=2.21.0->tensorboard>=2.9.1->snorkel) (2.0.7)\n",
      "Requirement already satisfied: certifi>=2017.4.17 in /usr/lib/python3/dist-packages (from requests<3,>=2.21.0->tensorboard>=2.9.1->snorkel) (2018.1.18)\n",
      "Requirement already satisfied: dataclasses in /usr/local/lib/python3.6/dist-packages (from werkzeug>=1.0.1->tensorboard>=2.9.1->snorkel) (0.8)\n",
      "Requirement already satisfied: typing-extensions>=3.6.4 in /usr/local/lib/python3.6/dist-packages (from importlib-metadata>=4.4->markdown>=2.6.8->tensorboard>=2.9.1->snorkel) (3.7.4.3)\n",
      "Requirement already satisfied: zipp>=0.5 in /usr/local/lib/python3.6/dist-packages (from importlib-metadata>=4.4->markdown>=2.6.8->tensorboard>=2.9.1->snorkel) (3.6.0)\n",
      "Requirement already satisfied: pyasn1<0.5.0,>=0.4.6 in /usr/local/lib/python3.6/dist-packages (from pyasn1-modules>=0.2.1->google-auth<3,>=1.6.3->tensorboard>=2.9.1->snorkel) (0.4.8)\n",
      "Requirement already satisfied: oauthlib>=3.0.0 in /usr/local/lib/python3.6/dist-packages (from requests-oauthlib>=0.7.0->google-auth-oauthlib<0.5,>=0.4.1->tensorboard>=2.9.1->snorkel) (3.1.1)\n",
      "Defaulting to user installation because normal site-packages is not writeable\n",
      "Requirement already satisfied: textblob in /home/u189553/.local/lib/python3.6/site-packages (0.17.1)\n",
      "Requirement already satisfied: nltk>=3.1 in /usr/local/lib/python3.6/dist-packages/nltk-3.6.5-py3.6.egg (from textblob) (3.6.5)\n",
      "Requirement already satisfied: click in /usr/local/lib/python3.6/dist-packages/click-8.0.3-py3.6.egg (from nltk>=3.1->textblob) (8.0.3)\n",
      "Requirement already satisfied: joblib in /usr/local/lib/python3.6/dist-packages (from nltk>=3.1->textblob) (1.1.0)\n",
      "Requirement already satisfied: regex>=2021.8.3 in /usr/local/lib/python3.6/dist-packages/regex-2021.11.10-py3.6-linux-x86_64.egg (from nltk>=3.1->textblob) (2021.11.10)\n",
      "Requirement already satisfied: tqdm in /usr/local/lib/python3.6/dist-packages/tqdm-4.62.3-py3.6.egg (from nltk>=3.1->textblob) (4.62.3)\n",
      "Requirement already satisfied: importlib-metadata in /usr/local/lib/python3.6/dist-packages (from click->nltk>=3.1->textblob) (4.8.2)\n",
      "Requirement already satisfied: zipp>=0.5 in /usr/local/lib/python3.6/dist-packages (from importlib-metadata->click->nltk>=3.1->textblob) (3.6.0)\n",
      "Requirement already satisfied: typing-extensions>=3.6.4 in /usr/local/lib/python3.6/dist-packages (from importlib-metadata->click->nltk>=3.1->textblob) (3.7.4.3)\n"
     ]
    }
   ],
   "source": [
    "#install needed packages\n",
    "!pip install snorkel\n",
    "!pip install textblob"
   ]
  },
  {
   "cell_type": "code",
   "execution_count": 2,
   "metadata": {
    "id": "SCyWn0UGSmMP"
   },
   "outputs": [],
   "source": [
    "#import libraries and modules\n",
    "import io\n",
    "import pandas as pd"
   ]
  },
  {
   "cell_type": "code",
   "execution_count": 3,
   "metadata": {},
   "outputs": [
    {
     "name": "stdout",
     "output_type": "stream",
     "text": [
      "Defaulting to user installation because normal site-packages is not writeable\n",
      "Requirement already satisfied: snorkel in /home/u189553/.local/lib/python3.6/site-packages (0.9.9)\n",
      "Requirement already satisfied: numpy>=1.16.5 in /usr/local/lib/python3.6/dist-packages (from snorkel) (1.18.5)\n",
      "Requirement already satisfied: pandas>=1.0.0 in /usr/local/lib/python3.6/dist-packages/pandas-1.1.5-py3.6-linux-x86_64.egg (from snorkel) (1.1.5)\n",
      "Requirement already satisfied: networkx>=2.2 in /usr/local/lib/python3.6/dist-packages (from snorkel) (2.5.1)\n",
      "Requirement already satisfied: scipy>=1.2.0 in /usr/local/lib/python3.6/dist-packages/scipy-1.5.4-py3.6-linux-x86_64.egg (from snorkel) (1.5.4)\n",
      "Requirement already satisfied: tqdm>=4.33.0 in /usr/local/lib/python3.6/dist-packages/tqdm-4.62.3-py3.6.egg (from snorkel) (4.62.3)\n",
      "Requirement already satisfied: tensorboard>=2.9.1 in /home/u189553/.local/lib/python3.6/site-packages (from snorkel) (2.10.1)\n",
      "Requirement already satisfied: scikit-learn>=0.20.2 in /usr/local/lib/python3.6/dist-packages (from snorkel) (0.24.2)\n",
      "Requirement already satisfied: torch>=1.2.0 in /usr/local/lib/python3.6/dist-packages (from snorkel) (1.4.0)\n",
      "Requirement already satisfied: munkres>=1.0.6 in /home/u189553/.local/lib/python3.6/site-packages (from snorkel) (1.1.4)\n",
      "Requirement already satisfied: decorator<5,>=4.3 in /usr/local/lib/python3.6/dist-packages (from networkx>=2.2->snorkel) (4.4.2)\n",
      "Requirement already satisfied: python-dateutil>=2.7.3 in /usr/local/lib/python3.6/dist-packages (from pandas>=1.0.0->snorkel) (2.8.2)\n",
      "Requirement already satisfied: pytz>=2017.2 in /usr/local/lib/python3.6/dist-packages/pytz-2021.3-py3.6.egg (from pandas>=1.0.0->snorkel) (2021.3)\n",
      "Requirement already satisfied: joblib>=0.11 in /usr/local/lib/python3.6/dist-packages (from scikit-learn>=0.20.2->snorkel) (1.1.0)\n",
      "Requirement already satisfied: threadpoolctl>=2.0.0 in /usr/local/lib/python3.6/dist-packages (from scikit-learn>=0.20.2->snorkel) (3.0.0)\n",
      "Requirement already satisfied: wheel>=0.26 in /usr/local/lib/python3.6/dist-packages (from tensorboard>=2.9.1->snorkel) (0.37.0)\n",
      "Requirement already satisfied: requests<3,>=2.21.0 in /usr/local/lib/python3.6/dist-packages (from tensorboard>=2.9.1->snorkel) (2.26.0)\n",
      "Requirement already satisfied: markdown>=2.6.8 in /usr/local/lib/python3.6/dist-packages (from tensorboard>=2.9.1->snorkel) (3.3.6)\n",
      "Requirement already satisfied: google-auth<3,>=1.6.3 in /usr/local/lib/python3.6/dist-packages (from tensorboard>=2.9.1->snorkel) (2.3.3)\n",
      "Requirement already satisfied: werkzeug>=1.0.1 in /usr/local/lib/python3.6/dist-packages (from tensorboard>=2.9.1->snorkel) (2.0.2)\n",
      "Requirement already satisfied: setuptools>=41.0.0 in /usr/local/lib/python3.6/dist-packages (from tensorboard>=2.9.1->snorkel) (59.1.1)\n",
      "Requirement already satisfied: tensorboard-data-server<0.7.0,>=0.6.0 in /usr/local/lib/python3.6/dist-packages (from tensorboard>=2.9.1->snorkel) (0.6.1)\n",
      "Requirement already satisfied: tensorboard-plugin-wit>=1.6.0 in /usr/local/lib/python3.6/dist-packages (from tensorboard>=2.9.1->snorkel) (1.8.0)\n",
      "Requirement already satisfied: grpcio>=1.24.3 in /usr/local/lib/python3.6/dist-packages (from tensorboard>=2.9.1->snorkel) (1.32.0)\n",
      "Requirement already satisfied: google-auth-oauthlib<0.5,>=0.4.1 in /usr/local/lib/python3.6/dist-packages (from tensorboard>=2.9.1->snorkel) (0.4.6)\n",
      "Requirement already satisfied: protobuf<3.20,>=3.9.2 in /usr/local/lib/python3.6/dist-packages (from tensorboard>=2.9.1->snorkel) (3.19.1)\n",
      "Requirement already satisfied: absl-py>=0.4 in /usr/local/lib/python3.6/dist-packages (from tensorboard>=2.9.1->snorkel) (0.15.0)\n",
      "Requirement already satisfied: six in /usr/local/lib/python3.6/dist-packages (from absl-py>=0.4->tensorboard>=2.9.1->snorkel) (1.15.0)\n",
      "Requirement already satisfied: rsa<5,>=3.1.4 in /usr/local/lib/python3.6/dist-packages (from google-auth<3,>=1.6.3->tensorboard>=2.9.1->snorkel) (4.7.2)\n",
      "Requirement already satisfied: cachetools<5.0,>=2.0.0 in /usr/local/lib/python3.6/dist-packages (from google-auth<3,>=1.6.3->tensorboard>=2.9.1->snorkel) (4.2.4)\n",
      "Requirement already satisfied: pyasn1-modules>=0.2.1 in /usr/local/lib/python3.6/dist-packages (from google-auth<3,>=1.6.3->tensorboard>=2.9.1->snorkel) (0.2.8)\n",
      "Requirement already satisfied: requests-oauthlib>=0.7.0 in /usr/local/lib/python3.6/dist-packages (from google-auth-oauthlib<0.5,>=0.4.1->tensorboard>=2.9.1->snorkel) (1.3.0)\n",
      "Requirement already satisfied: importlib-metadata>=4.4 in /usr/local/lib/python3.6/dist-packages (from markdown>=2.6.8->tensorboard>=2.9.1->snorkel) (4.8.2)\n",
      "Requirement already satisfied: idna<4,>=2.5 in /usr/lib/python3/dist-packages (from requests<3,>=2.21.0->tensorboard>=2.9.1->snorkel) (2.6)\n",
      "Requirement already satisfied: certifi>=2017.4.17 in /usr/lib/python3/dist-packages (from requests<3,>=2.21.0->tensorboard>=2.9.1->snorkel) (2018.1.18)\n",
      "Requirement already satisfied: urllib3<1.27,>=1.21.1 in /usr/local/lib/python3.6/dist-packages (from requests<3,>=2.21.0->tensorboard>=2.9.1->snorkel) (1.26.7)\n",
      "Requirement already satisfied: charset-normalizer~=2.0.0 in /usr/local/lib/python3.6/dist-packages (from requests<3,>=2.21.0->tensorboard>=2.9.1->snorkel) (2.0.7)\n",
      "Requirement already satisfied: dataclasses in /usr/local/lib/python3.6/dist-packages (from werkzeug>=1.0.1->tensorboard>=2.9.1->snorkel) (0.8)\n",
      "Requirement already satisfied: typing-extensions>=3.6.4 in /usr/local/lib/python3.6/dist-packages (from importlib-metadata>=4.4->markdown>=2.6.8->tensorboard>=2.9.1->snorkel) (3.7.4.3)\n",
      "Requirement already satisfied: zipp>=0.5 in /usr/local/lib/python3.6/dist-packages (from importlib-metadata>=4.4->markdown>=2.6.8->tensorboard>=2.9.1->snorkel) (3.6.0)\n",
      "Requirement already satisfied: pyasn1<0.5.0,>=0.4.6 in /usr/local/lib/python3.6/dist-packages (from pyasn1-modules>=0.2.1->google-auth<3,>=1.6.3->tensorboard>=2.9.1->snorkel) (0.4.8)\n",
      "Requirement already satisfied: oauthlib>=3.0.0 in /usr/local/lib/python3.6/dist-packages (from requests-oauthlib>=0.7.0->google-auth-oauthlib<0.5,>=0.4.1->tensorboard>=2.9.1->snorkel) (3.1.1)\n"
     ]
    }
   ],
   "source": [
    "!pip install snorkel"
   ]
  },
  {
   "cell_type": "code",
   "execution_count": 4,
   "metadata": {
    "id": "FiE5svlHTAR3"
   },
   "outputs": [],
   "source": [
    "#Snorkel\n",
    "from snorkel.labeling import LabelingFunction\n",
    "import re\n",
    "from snorkel.preprocess import preprocessor\n",
    "from textblob import TextBlob\n",
    "from snorkel.labeling import PandasLFApplier\n",
    "from snorkel.labeling.model import LabelModel\n",
    "from snorkel.labeling import LFAnalysis\n",
    "from snorkel.labeling import filter_unlabeled_dataframe\n",
    "from snorkel.labeling import labeling_function"
   ]
  },
  {
   "cell_type": "code",
   "execution_count": 5,
   "metadata": {},
   "outputs": [
    {
     "name": "stdout",
     "output_type": "stream",
     "text": [
      "Defaulting to user installation because normal site-packages is not writeable\n",
      "Requirement already satisfied: spacy in /home/u189553/.local/lib/python3.6/site-packages (3.5.1)\n",
      "Requirement already satisfied: typing-extensions<4.5.0,>=3.7.4.1 in /usr/local/lib/python3.6/dist-packages (from spacy) (3.7.4.3)\n",
      "Requirement already satisfied: pydantic!=1.8,!=1.8.1,<1.11.0,>=1.7.4 in /home/u189553/.local/lib/python3.6/site-packages (from spacy) (1.9.2)\n",
      "Requirement already satisfied: langcodes<4.0.0,>=3.2.0 in /home/u189553/.local/lib/python3.6/site-packages (from spacy) (3.3.0)\n",
      "Requirement already satisfied: cymem<2.1.0,>=2.0.2 in /home/u189553/.local/lib/python3.6/site-packages (from spacy) (2.0.7)\n",
      "Requirement already satisfied: typer<0.8.0,>=0.3.0 in /home/u189553/.local/lib/python3.6/site-packages (from spacy) (0.7.0)\n",
      "Requirement already satisfied: spacy-loggers<2.0.0,>=1.0.0 in /home/u189553/.local/lib/python3.6/site-packages (from spacy) (1.0.4)\n",
      "Requirement already satisfied: srsly<3.0.0,>=2.4.3 in /home/u189553/.local/lib/python3.6/site-packages (from spacy) (2.4.6)\n",
      "Requirement already satisfied: tqdm<5.0.0,>=4.38.0 in /usr/local/lib/python3.6/dist-packages/tqdm-4.62.3-py3.6.egg (from spacy) (4.62.3)\n",
      "Requirement already satisfied: thinc<8.2.0,>=8.1.8 in /home/u189553/.local/lib/python3.6/site-packages (from spacy) (8.1.9)\n",
      "Requirement already satisfied: jinja2 in /usr/local/lib/python3.6/dist-packages (from spacy) (3.0.3)\n",
      "Requirement already satisfied: requests<3.0.0,>=2.13.0 in /usr/local/lib/python3.6/dist-packages (from spacy) (2.26.0)\n",
      "Requirement already satisfied: packaging>=20.0 in /usr/local/lib/python3.6/dist-packages (from spacy) (21.3)\n",
      "Requirement already satisfied: smart-open<7.0.0,>=5.2.1 in /home/u189553/.local/lib/python3.6/site-packages (from spacy) (6.3.0)\n",
      "Requirement already satisfied: preshed<3.1.0,>=3.0.2 in /home/u189553/.local/lib/python3.6/site-packages (from spacy) (3.0.8)\n",
      "Requirement already satisfied: wasabi<1.2.0,>=0.9.1 in /home/u189553/.local/lib/python3.6/site-packages (from spacy) (1.1.1)\n",
      "Requirement already satisfied: numpy>=1.15.0 in /usr/local/lib/python3.6/dist-packages (from spacy) (1.18.5)\n",
      "Requirement already satisfied: pathy>=0.10.0 in /home/u189553/.local/lib/python3.6/site-packages (from spacy) (0.10.1)\n",
      "Requirement already satisfied: catalogue<2.1.0,>=2.0.6 in /home/u189553/.local/lib/python3.6/site-packages (from spacy) (2.0.8)\n",
      "Requirement already satisfied: setuptools in /usr/local/lib/python3.6/dist-packages (from spacy) (59.1.1)\n",
      "Requirement already satisfied: murmurhash<1.1.0,>=0.28.0 in /home/u189553/.local/lib/python3.6/site-packages (from spacy) (1.0.9)\n",
      "Requirement already satisfied: spacy-legacy<3.1.0,>=3.0.11 in /home/u189553/.local/lib/python3.6/site-packages (from spacy) (3.0.12)\n",
      "Requirement already satisfied: zipp>=0.5 in /usr/local/lib/python3.6/dist-packages (from catalogue<2.1.0,>=2.0.6->spacy) (3.6.0)\n",
      "Requirement already satisfied: pyparsing!=3.0.5,>=2.0.2 in /usr/local/lib/python3.6/dist-packages (from packaging>=20.0->spacy) (3.0.6)\n",
      "Requirement already satisfied: dataclasses<1.0,>=0.6 in /usr/local/lib/python3.6/dist-packages (from pathy>=0.10.0->spacy) (0.8)\n",
      "Requirement already satisfied: urllib3<1.27,>=1.21.1 in /usr/local/lib/python3.6/dist-packages (from requests<3.0.0,>=2.13.0->spacy) (1.26.7)\n",
      "Requirement already satisfied: charset-normalizer~=2.0.0 in /usr/local/lib/python3.6/dist-packages (from requests<3.0.0,>=2.13.0->spacy) (2.0.7)\n",
      "Requirement already satisfied: certifi>=2017.4.17 in /usr/lib/python3/dist-packages (from requests<3.0.0,>=2.13.0->spacy) (2018.1.18)\n",
      "Requirement already satisfied: idna<4,>=2.5 in /usr/lib/python3/dist-packages (from requests<3.0.0,>=2.13.0->spacy) (2.6)\n",
      "Requirement already satisfied: contextvars<3,>=2.4 in /home/u189553/.local/lib/python3.6/site-packages (from thinc<8.2.0,>=8.1.8->spacy) (2.4)\n",
      "Requirement already satisfied: confection<1.0.0,>=0.0.1 in /home/u189553/.local/lib/python3.6/site-packages (from thinc<8.2.0,>=8.1.8->spacy) (0.0.4)\n",
      "Requirement already satisfied: blis<0.8.0,>=0.7.8 in /home/u189553/.local/lib/python3.6/site-packages (from thinc<8.2.0,>=8.1.8->spacy) (0.7.9)\n",
      "Requirement already satisfied: click<9.0.0,>=7.1.1 in /usr/local/lib/python3.6/dist-packages/click-8.0.3-py3.6.egg (from typer<0.8.0,>=0.3.0->spacy) (8.0.3)\n",
      "Requirement already satisfied: MarkupSafe>=2.0 in /usr/local/lib/python3.6/dist-packages (from jinja2->spacy) (2.0.1)\n",
      "Requirement already satisfied: importlib-metadata in /usr/local/lib/python3.6/dist-packages (from click<9.0.0,>=7.1.1->typer<0.8.0,>=0.3.0->spacy) (4.8.2)\n",
      "Requirement already satisfied: immutables>=0.9 in /home/u189553/.local/lib/python3.6/site-packages (from contextvars<3,>=2.4->thinc<8.2.0,>=8.1.8->spacy) (0.19)\n"
     ]
    }
   ],
   "source": [
    "!pip install spacy"
   ]
  },
  {
   "cell_type": "code",
   "execution_count": 6,
   "metadata": {
    "colab": {
     "base_uri": "https://localhost:8080/"
    },
    "id": "eaQ7LYgVTDkO",
    "outputId": "d9b57dac-64ba-46c2-89ec-f9546e500649"
   },
   "outputs": [
    {
     "name": "stderr",
     "output_type": "stream",
     "text": [
      "[nltk_data] Downloading package stopwords to\n",
      "[nltk_data]     /home/u189553/nltk_data...\n",
      "[nltk_data]   Package stopwords is already up-to-date!\n"
     ]
    }
   ],
   "source": [
    "#NLP packages\n",
    "import spacy\n",
    "from nltk.corpus import stopwords\n",
    "import string\n",
    "import nltk\n",
    "import nltk.tokenize\n",
    "punc = string.punctuation\n",
    "nltk.download('stopwords')\n",
    "stop_words = set(stopwords.words('english'))"
   ]
  },
  {
   "cell_type": "code",
   "execution_count": 7,
   "metadata": {
    "id": "J7rKAWVoTLmp"
   },
   "outputs": [],
   "source": [
    "#Supervised learning\n",
    "from tqdm import tqdm_notebook as tqdm\n",
    "from sklearn.feature_extraction.text import TfidfVectorizer\n",
    "from sklearn.model_selection import train_test_split\n",
    "from sklearn.metrics import accuracy_score\n",
    "from sklearn.linear_model import LogisticRegression\n",
    "from sklearn.metrics import classification_report\n",
    "##Deep learning libraries and APIs\n",
    "import numpy as np\n",
    "import tensorflow as tf\n",
    "from tensorflow.keras.preprocessing.text import Tokenizer\n",
    "from tensorflow.keras.preprocessing.sequence import pad_sequences"
   ]
  },
  {
   "cell_type": "code",
   "execution_count": 8,
   "metadata": {
    "colab": {
     "base_uri": "https://localhost:8080/"
    },
    "id": "T6o9IRoZTXbm",
    "outputId": "12f9a391-be63-4c5b-d6b7-2de8af9d3706"
   },
   "outputs": [
    {
     "name": "stdout",
     "output_type": "stream",
     "text": [
      "<class 'pandas.core.frame.DataFrame'>\n",
      "RangeIndex: 55932 entries, 0 to 55931\n",
      "Data columns (total 11 columns):\n",
      " #   Column             Non-Null Count  Dtype  \n",
      "---  ------             --------------  -----  \n",
      " 0   IDLink             55932 non-null  object \n",
      " 1   Title              55932 non-null  object \n",
      " 2   Headline           55932 non-null  object \n",
      " 3   Source             55757 non-null  object \n",
      " 4   Topic              55932 non-null  object \n",
      " 5   PublishDate        55932 non-null  object \n",
      " 6   Facebook           55932 non-null  int64  \n",
      " 7   GooglePlus         55932 non-null  int64  \n",
      " 8   LinkedIn           55932 non-null  int64  \n",
      " 9   SentimentTitle     55932 non-null  float64\n",
      " 10  SentimentHeadline  55932 non-null  float64\n",
      "dtypes: float64(2), int64(3), object(6)\n",
      "memory usage: 4.7+ MB\n"
     ]
    }
   ],
   "source": [
    "# store the dataset as a Pandas Dataframe\n",
    "df = pd.read_csv('train_file.csv')\n",
    "df = pd.DataFrame()\n",
    "training_data = pd.read_csv('train_file.csv')\n",
    "#conduct some data cleaning\n",
    "# df = df.drop(['publish_date', 'Unnamme 'pd' is not defineded: 2'], axis=1)\n",
    "# df = df.rename(columns = {'headline_text': 'text'})\n",
    "# df['Title'] = df['Title'].astype(str)\n",
    "#check the data info\n",
    "training_data.head()\n",
    "training_data.info()"
   ]
  },
  {
   "cell_type": "code",
   "execution_count": 9,
   "metadata": {
    "colab": {
     "base_uri": "https://localhost:8080/"
    },
    "id": "-5NkOqe7VA9t",
    "outputId": "12435605-9db1-4954-a108-4ae2a41db5f2"
   },
   "outputs": [
    {
     "name": "stderr",
     "output_type": "stream",
     "text": [
      "[nltk_data] Downloading package stopwords to\n",
      "[nltk_data]     /home/u189553/nltk_data...\n",
      "[nltk_data]   Package stopwords is already up-to-date!\n"
     ]
    },
    {
     "data": {
      "text/plain": [
       "True"
      ]
     },
     "execution_count": 9,
     "metadata": {},
     "output_type": "execute_result"
    }
   ],
   "source": [
    "from nltk.corpus import stopwords\n",
    "import nltk\n",
    "nltk.download('stopwords')"
   ]
  },
  {
   "cell_type": "code",
   "execution_count": 10,
   "metadata": {
    "id": "y0cWkFXwVaSd"
   },
   "outputs": [],
   "source": [
    "stop_words = set(stopwords.words('english'))"
   ]
  },
  {
   "cell_type": "code",
   "execution_count": 11,
   "metadata": {
    "id": "rTGBSNYgV64v"
   },
   "outputs": [],
   "source": [
    "title = list(training_data['Title'])\n",
    "headline = list(training_data['Headline'])"
   ]
  },
  {
   "cell_type": "code",
   "execution_count": 12,
   "metadata": {
    "id": "h3LPYmkiVyGv"
   },
   "outputs": [],
   "source": [
    "import re\n",
    "title_words = [re.findall(r\"[\\w']+\", x) for x in title]\n",
    "training_data['Title'] = [re.findall(r\"[\\w']+\", x) for x in title]\n",
    "headline_words = [re.findall(r\"[\\w']+\", x) for x in headline]\n"
   ]
  },
  {
   "cell_type": "code",
   "execution_count": 15,
   "metadata": {
    "colab": {
     "base_uri": "https://localhost:8080/"
    },
    "id": "eJ1CQBaSWaiY",
    "outputId": "fd3fb35a-4fdb-4a8a-ed40-88effe118da3"
   },
   "outputs": [
    {
     "name": "stdout",
     "output_type": "stream",
     "text": [
      "['Obama', 'Lays', 'Wreath', 'at', 'Arlington', 'National', 'Cemetery', 'President', 'Barack', 'Obama', 'has', 'laid', 'a', 'wreath', 'at', 'the', 'Tomb', 'of', 'the', 'Unknowns', 'to', 'honor']\n"
     ]
    }
   ],
   "source": [
    "print(headline_words[0])"
   ]
  },
  {
   "cell_type": "code",
   "execution_count": null,
   "metadata": {
    "id": "jvmkRDMtZCmY"
   },
   "outputs": [],
   "source": [
    "stop_words"
   ]
  },
  {
   "cell_type": "code",
   "execution_count": null,
   "metadata": {
    "colab": {
     "base_uri": "https://localhost:8080/",
     "height": 512
    },
    "id": "kIcRslA0W8L5",
    "outputId": "48c5dc07-2616-47ce-bed4-c3518a76dfd4"
   },
   "outputs": [],
   "source": [
    "# for wordList in list(title_words):  # iterating on a copy since removing will mess things up\n",
    "#   for word in wordList:\n",
    "#     if word in list(stop_words):\n",
    "#         wordList.remove(word)"
   ]
  },
  {
   "cell_type": "code",
   "execution_count": null,
   "metadata": {
    "id": "F4H21pczZdtC"
   },
   "outputs": [],
   "source": [
    "new_title_words = [];\n",
    "for wordList in title_words:\n",
    "    new_words = list(filter(lambda w: w not in stop_words,wordList))\n",
    "    new_title_words.append(new_words)"
   ]
  },
  {
   "cell_type": "code",
   "execution_count": 17,
   "metadata": {},
   "outputs": [],
   "source": [
    "new_headline_words = []\n",
    "for wordList in headline_words:\n",
    "    new_words = list(filter(lambda w: w not in stop_words,wordList))\n",
    "    new_headline_words.append(new_words)"
   ]
  },
  {
   "cell_type": "code",
   "execution_count": 18,
   "metadata": {},
   "outputs": [
    {
     "data": {
      "text/plain": [
       "55932"
      ]
     },
     "execution_count": 18,
     "metadata": {},
     "output_type": "execute_result"
    }
   ],
   "source": [
    "len(new_headline_words)"
   ]
  },
  {
   "cell_type": "code",
   "execution_count": null,
   "metadata": {},
   "outputs": [],
   "source": [
    "sentiment_titles = list(training_data['SentimentTitle'])"
   ]
  },
  {
   "cell_type": "code",
   "execution_count": 19,
   "metadata": {},
   "outputs": [],
   "source": [
    "sentiment_headlines = list(training_data['SentimentHeadline'])"
   ]
  },
  {
   "cell_type": "code",
   "execution_count": null,
   "metadata": {},
   "outputs": [],
   "source": [
    "sentiment_headlines"
   ]
  },
  {
   "cell_type": "code",
   "execution_count": null,
   "metadata": {
    "id": "kiVxUQvVUgX-"
   },
   "outputs": [],
   "source": [
    "#define constants to represent the class labels :positive, negative, and abstain\n",
    "POSITIVES = list()\n",
    "NEGATIVES = list()\n",
    "NEUTRALS =  list()\n",
    "#define function which looks into the input words to represent a proper label\n",
    "# def keyword_lookup(x, keywords, label):  \n",
    "#     if any(word in x.text.lower() for word in keywords):\n",
    "#         return label\n",
    "#     return ABSTAIN\n",
    "# #define function which assigns a correct label\n",
    "# def make_keyword_lf(keywords, label=POSITIVE):\n",
    "#     return LabelingFunction(\n",
    "#         name=f\"keyword_{keywords[0]}\",\n",
    "#         f=keyword_lookup,\n",
    "#         resources=dict(keywords=keywords, label=label))\n",
    "\n",
    "\n",
    "\n",
    "\n",
    "for x in range(len(sentiment_titles)):\n",
    "    for i in new_headline_words[x]:\n",
    "        if(sentiment_titles[x] < 0 ):\n",
    "            NEGATIVES.append(i)\n",
    "        elif(sentiment_titles[x] > 0 ):\n",
    "            POSITIVES.append(i)\n",
    "        elif(sentiment_titles[x] == 0 ):\n",
    "            NEUTRALS.append(i)"
   ]
  },
  {
   "cell_type": "code",
   "execution_count": 22,
   "metadata": {},
   "outputs": [],
   "source": [
    "#define constants to represent the class labels :positive, negative, and abstain\n",
    "POSITIVES_headline = list()\n",
    "NEGATIVES_headline = list()\n",
    "NEUTRALS_headline =  list()\n",
    "#define function which looks into the input words to represent a proper label\n",
    "# def keyword_lookup(x, keywords, label):  \n",
    "#     if any(word in x.text.lower() for word in keywords):\n",
    "#         return label\n",
    "#     return ABSTAIN\n",
    "# #define function which assigns a correct label\n",
    "# def make_keyword_lf(keywords, label=POSITIVE):\n",
    "#     return LabelingFunction(\n",
    "#         name=f\"keyword_{keywords[0]}\",\n",
    "#         f=keyword_lookup,\n",
    "#         resources=dict(keywords=keywords, label=label))\n",
    "\n",
    "\n",
    "\n",
    "\n",
    "for x in range(len(sentiment_headlines)):\n",
    "    for i in new_headline_words[x]:\n",
    "        if(sentiment_headlines[x] < 0 ):\n",
    "            NEGATIVES_headline.append(i)\n",
    "        elif(sentiment_headlines[x] > 0 ):\n",
    "            POSITIVES_headline.append(i)\n",
    "        elif(sentiment_headlines[x] == 0 ):\n",
    "            NEUTRALS_headline.append(i)"
   ]
  },
  {
   "cell_type": "code",
   "execution_count": 23,
   "metadata": {},
   "outputs": [],
   "source": [
    "#set up a preprocessor function to determine polarity & subjectivity using textlob pretrained classifier \n",
    "@preprocessor(memoize=True)\n",
    "def textblob_sentiment(x):\n",
    "    scores = TextBlob(x.text)\n",
    "    x.polarity = scores.sentiment.polarity\n",
    "    x.subjectivity = scores.sentiment.subjectivity\n",
    "    return x"
   ]
  },
  {
   "cell_type": "code",
   "execution_count": 24,
   "metadata": {},
   "outputs": [],
   "source": [
    "#find polarity\n",
    "@labeling_function(pre=[textblob_sentiment])\n",
    "def textblob_polarity(x):\n",
    "    return POSITIVES if x.polarity > 0.6 else NEUTRALS"
   ]
  },
  {
   "cell_type": "code",
   "execution_count": 25,
   "metadata": {},
   "outputs": [],
   "source": [
    "#find subjectivity \n",
    "@labeling_function(pre=[textblob_sentiment])\n",
    "def textblob_subjectivity(x):\n",
    "    return POSITIVES if x.subjectivity >= 0.5 else NEUTRALS"
   ]
  },
  {
   "cell_type": "code",
   "execution_count": 26,
   "metadata": {},
   "outputs": [],
   "source": [
    "def keyword_lookup(x, keywords, label):  \n",
    "    if any(word in x.text.lower() for word in keywords):\n",
    "        return label\n",
    "    return \"NEUTRAL\""
   ]
  },
  {
   "cell_type": "code",
   "execution_count": 27,
   "metadata": {},
   "outputs": [],
   "source": [
    "def make_keyword_lf(keywords, label=\"POSITIVE\"):\n",
    "    return LabelingFunction(\n",
    "        name=f\"keyword_{keywords[0]}\",\n",
    "        f=keyword_lookup,\n",
    "        resources=dict(keywords=keywords, label=label))"
   ]
  },
  {
   "cell_type": "code",
   "execution_count": 29,
   "metadata": {},
   "outputs": [],
   "source": [
    "#combine all the labeling functions \n",
    "lfs = [make_keyword_lf(POSITIVES_headline), make_keyword_lf(NEGATIVES_headline), textblob_polarity, textblob_subjectivity]"
   ]
  },
  {
   "cell_type": "code",
   "execution_count": 30,
   "metadata": {},
   "outputs": [],
   "source": [
    "#apply the lfs on the dataframe\n",
    "applier = PandasLFApplier(lfs=lfs)"
   ]
  },
  {
   "cell_type": "code",
   "execution_count": 32,
   "metadata": {},
   "outputs": [
    {
     "name": "stderr",
     "output_type": "stream",
     "text": [
      "/usr/local/lib/python3.6/dist-packages/tqdm-4.62.3-py3.6.egg/tqdm/std.py:775: RuntimeWarning: divide by zero encountered in long_scalars\n",
      "  total = df.size // df.shape[axis]\n",
      "1it [00:00, 851.64it/s]\n"
     ]
    }
   ],
   "source": [
    "L_snorkel = applier.apply(df=df)"
   ]
  },
  {
   "cell_type": "code",
   "execution_count": null,
   "metadata": {},
   "outputs": [],
   "source": [
    "new_title_words_df = pd.DataFrame(new_title_words)"
   ]
  },
  {
   "cell_type": "code",
   "execution_count": 35,
   "metadata": {},
   "outputs": [],
   "source": [
    "new_headline_words_df = pd.DataFrame(new_headline_words)"
   ]
  },
  {
   "cell_type": "code",
   "execution_count": 34,
   "metadata": {},
   "outputs": [
    {
     "data": {
      "text/html": [
       "<div>\n",
       "<style scoped>\n",
       "    .dataframe tbody tr th:only-of-type {\n",
       "        vertical-align: middle;\n",
       "    }\n",
       "\n",
       "    .dataframe tbody tr th {\n",
       "        vertical-align: top;\n",
       "    }\n",
       "\n",
       "    .dataframe thead th {\n",
       "        text-align: right;\n",
       "    }\n",
       "</style>\n",
       "<table border=\"1\" class=\"dataframe\">\n",
       "  <thead>\n",
       "    <tr style=\"text-align: right;\">\n",
       "      <th></th>\n",
       "      <th>0</th>\n",
       "      <th>1</th>\n",
       "      <th>2</th>\n",
       "      <th>3</th>\n",
       "      <th>4</th>\n",
       "      <th>5</th>\n",
       "      <th>6</th>\n",
       "      <th>7</th>\n",
       "      <th>8</th>\n",
       "      <th>9</th>\n",
       "      <th>...</th>\n",
       "      <th>51</th>\n",
       "      <th>52</th>\n",
       "      <th>53</th>\n",
       "      <th>54</th>\n",
       "      <th>55</th>\n",
       "      <th>56</th>\n",
       "      <th>57</th>\n",
       "      <th>58</th>\n",
       "      <th>59</th>\n",
       "      <th>60</th>\n",
       "    </tr>\n",
       "  </thead>\n",
       "  <tbody>\n",
       "    <tr>\n",
       "      <th>0</th>\n",
       "      <td>Obama</td>\n",
       "      <td>Lays</td>\n",
       "      <td>Wreath</td>\n",
       "      <td>Arlington</td>\n",
       "      <td>National</td>\n",
       "      <td>Cemetery</td>\n",
       "      <td>President</td>\n",
       "      <td>Barack</td>\n",
       "      <td>Obama</td>\n",
       "      <td>laid</td>\n",
       "      <td>...</td>\n",
       "      <td>None</td>\n",
       "      <td>None</td>\n",
       "      <td>None</td>\n",
       "      <td>None</td>\n",
       "      <td>None</td>\n",
       "      <td>None</td>\n",
       "      <td>None</td>\n",
       "      <td>None</td>\n",
       "      <td>None</td>\n",
       "      <td>None</td>\n",
       "    </tr>\n",
       "    <tr>\n",
       "      <th>1</th>\n",
       "      <td>Tim</td>\n",
       "      <td>Haywood</td>\n",
       "      <td>investment</td>\n",
       "      <td>director</td>\n",
       "      <td>business</td>\n",
       "      <td>unit</td>\n",
       "      <td>head</td>\n",
       "      <td>fixed</td>\n",
       "      <td>income</td>\n",
       "      <td>Gam</td>\n",
       "      <td>...</td>\n",
       "      <td>None</td>\n",
       "      <td>None</td>\n",
       "      <td>None</td>\n",
       "      <td>None</td>\n",
       "      <td>None</td>\n",
       "      <td>None</td>\n",
       "      <td>None</td>\n",
       "      <td>None</td>\n",
       "      <td>None</td>\n",
       "      <td>None</td>\n",
       "    </tr>\n",
       "    <tr>\n",
       "      <th>2</th>\n",
       "      <td>Nouriel</td>\n",
       "      <td>Roubini</td>\n",
       "      <td>NYU</td>\n",
       "      <td>professor</td>\n",
       "      <td>chairman</td>\n",
       "      <td>Roubini</td>\n",
       "      <td>Global</td>\n",
       "      <td>Economics</td>\n",
       "      <td>explains</td>\n",
       "      <td>global</td>\n",
       "      <td>...</td>\n",
       "      <td>None</td>\n",
       "      <td>None</td>\n",
       "      <td>None</td>\n",
       "      <td>None</td>\n",
       "      <td>None</td>\n",
       "      <td>None</td>\n",
       "      <td>None</td>\n",
       "      <td>None</td>\n",
       "      <td>None</td>\n",
       "      <td>None</td>\n",
       "    </tr>\n",
       "    <tr>\n",
       "      <th>3</th>\n",
       "      <td>Finland's</td>\n",
       "      <td>economy</td>\n",
       "      <td>expanded</td>\n",
       "      <td>marginally</td>\n",
       "      <td>three</td>\n",
       "      <td>months</td>\n",
       "      <td>ended</td>\n",
       "      <td>December</td>\n",
       "      <td>contracting</td>\n",
       "      <td>previous</td>\n",
       "      <td>...</td>\n",
       "      <td>None</td>\n",
       "      <td>None</td>\n",
       "      <td>None</td>\n",
       "      <td>None</td>\n",
       "      <td>None</td>\n",
       "      <td>None</td>\n",
       "      <td>None</td>\n",
       "      <td>None</td>\n",
       "      <td>None</td>\n",
       "      <td>None</td>\n",
       "    </tr>\n",
       "    <tr>\n",
       "      <th>4</th>\n",
       "      <td>Tourism</td>\n",
       "      <td>public</td>\n",
       "      <td>spending</td>\n",
       "      <td>continued</td>\n",
       "      <td>boost</td>\n",
       "      <td>economy</td>\n",
       "      <td>January</td>\n",
       "      <td>light</td>\n",
       "      <td>contraction</td>\n",
       "      <td>private</td>\n",
       "      <td>...</td>\n",
       "      <td>None</td>\n",
       "      <td>None</td>\n",
       "      <td>None</td>\n",
       "      <td>None</td>\n",
       "      <td>None</td>\n",
       "      <td>None</td>\n",
       "      <td>None</td>\n",
       "      <td>None</td>\n",
       "      <td>None</td>\n",
       "      <td>None</td>\n",
       "    </tr>\n",
       "    <tr>\n",
       "      <th>...</th>\n",
       "      <td>...</td>\n",
       "      <td>...</td>\n",
       "      <td>...</td>\n",
       "      <td>...</td>\n",
       "      <td>...</td>\n",
       "      <td>...</td>\n",
       "      <td>...</td>\n",
       "      <td>...</td>\n",
       "      <td>...</td>\n",
       "      <td>...</td>\n",
       "      <td>...</td>\n",
       "      <td>...</td>\n",
       "      <td>...</td>\n",
       "      <td>...</td>\n",
       "      <td>...</td>\n",
       "      <td>...</td>\n",
       "      <td>...</td>\n",
       "      <td>...</td>\n",
       "      <td>...</td>\n",
       "      <td>...</td>\n",
       "      <td>...</td>\n",
       "    </tr>\n",
       "    <tr>\n",
       "      <th>55927</th>\n",
       "      <td>Retired</td>\n",
       "      <td>Cuban</td>\n",
       "      <td>leader</td>\n",
       "      <td>Fidel</td>\n",
       "      <td>Castro</td>\n",
       "      <td>slammed</td>\n",
       "      <td>President</td>\n",
       "      <td>Barack</td>\n",
       "      <td>Obama's</td>\n",
       "      <td>recent</td>\n",
       "      <td>...</td>\n",
       "      <td>None</td>\n",
       "      <td>None</td>\n",
       "      <td>None</td>\n",
       "      <td>None</td>\n",
       "      <td>None</td>\n",
       "      <td>None</td>\n",
       "      <td>None</td>\n",
       "      <td>None</td>\n",
       "      <td>None</td>\n",
       "      <td>None</td>\n",
       "    </tr>\n",
       "    <tr>\n",
       "      <th>55928</th>\n",
       "      <td>President</td>\n",
       "      <td>Obama</td>\n",
       "      <td>caught</td>\n",
       "      <td>predictable</td>\n",
       "      <td>flak</td>\n",
       "      <td>political</td>\n",
       "      <td>right</td>\n",
       "      <td>way</td>\n",
       "      <td>reacted</td>\n",
       "      <td>react</td>\n",
       "      <td>...</td>\n",
       "      <td>None</td>\n",
       "      <td>None</td>\n",
       "      <td>None</td>\n",
       "      <td>None</td>\n",
       "      <td>None</td>\n",
       "      <td>None</td>\n",
       "      <td>None</td>\n",
       "      <td>None</td>\n",
       "      <td>None</td>\n",
       "      <td>None</td>\n",
       "    </tr>\n",
       "    <tr>\n",
       "      <th>55929</th>\n",
       "      <td>While</td>\n",
       "      <td>Trump</td>\n",
       "      <td>wants</td>\n",
       "      <td>put</td>\n",
       "      <td>large</td>\n",
       "      <td>tariffs</td>\n",
       "      <td>imports</td>\n",
       "      <td>major</td>\n",
       "      <td>trading</td>\n",
       "      <td>partners</td>\n",
       "      <td>...</td>\n",
       "      <td>None</td>\n",
       "      <td>None</td>\n",
       "      <td>None</td>\n",
       "      <td>None</td>\n",
       "      <td>None</td>\n",
       "      <td>None</td>\n",
       "      <td>None</td>\n",
       "      <td>None</td>\n",
       "      <td>None</td>\n",
       "      <td>None</td>\n",
       "    </tr>\n",
       "    <tr>\n",
       "      <th>55930</th>\n",
       "      <td>Microsoft</td>\n",
       "      <td>business</td>\n",
       "      <td>customers</td>\n",
       "      <td>finally</td>\n",
       "      <td>beginning</td>\n",
       "      <td>take</td>\n",
       "      <td>delivery</td>\n",
       "      <td>giant</td>\n",
       "      <td>Windows</td>\n",
       "      <td>10</td>\n",
       "      <td>...</td>\n",
       "      <td>None</td>\n",
       "      <td>None</td>\n",
       "      <td>None</td>\n",
       "      <td>None</td>\n",
       "      <td>None</td>\n",
       "      <td>None</td>\n",
       "      <td>None</td>\n",
       "      <td>None</td>\n",
       "      <td>None</td>\n",
       "      <td>None</td>\n",
       "    </tr>\n",
       "    <tr>\n",
       "      <th>55931</th>\n",
       "      <td>AS</td>\n",
       "      <td>WE</td>\n",
       "      <td>know</td>\n",
       "      <td>listening</td>\n",
       "      <td>campaign</td>\n",
       "      <td>rhetoric</td>\n",
       "      <td>candidates</td>\n",
       "      <td>parties</td>\n",
       "      <td>U</td>\n",
       "      <td>S</td>\n",
       "      <td>...</td>\n",
       "      <td>None</td>\n",
       "      <td>None</td>\n",
       "      <td>None</td>\n",
       "      <td>None</td>\n",
       "      <td>None</td>\n",
       "      <td>None</td>\n",
       "      <td>None</td>\n",
       "      <td>None</td>\n",
       "      <td>None</td>\n",
       "      <td>None</td>\n",
       "    </tr>\n",
       "  </tbody>\n",
       "</table>\n",
       "<p>55932 rows × 61 columns</p>\n",
       "</div>"
      ],
      "text/plain": [
       "              0         1           2            3          4          5   \\\n",
       "0          Obama      Lays      Wreath    Arlington   National   Cemetery   \n",
       "1            Tim   Haywood  investment     director   business       unit   \n",
       "2        Nouriel   Roubini         NYU    professor   chairman    Roubini   \n",
       "3      Finland's   economy    expanded   marginally      three     months   \n",
       "4        Tourism    public    spending    continued      boost    economy   \n",
       "...          ...       ...         ...          ...        ...        ...   \n",
       "55927    Retired     Cuban      leader        Fidel     Castro    slammed   \n",
       "55928  President     Obama      caught  predictable       flak  political   \n",
       "55929      While     Trump       wants          put      large    tariffs   \n",
       "55930  Microsoft  business   customers      finally  beginning       take   \n",
       "55931         AS        WE        know    listening   campaign   rhetoric   \n",
       "\n",
       "               6          7            8         9   ...    51    52    53  \\\n",
       "0       President     Barack        Obama      laid  ...  None  None  None   \n",
       "1            head      fixed       income       Gam  ...  None  None  None   \n",
       "2          Global  Economics     explains    global  ...  None  None  None   \n",
       "3           ended   December  contracting  previous  ...  None  None  None   \n",
       "4         January      light  contraction   private  ...  None  None  None   \n",
       "...           ...        ...          ...       ...  ...   ...   ...   ...   \n",
       "55927   President     Barack      Obama's    recent  ...  None  None  None   \n",
       "55928       right        way      reacted     react  ...  None  None  None   \n",
       "55929     imports      major      trading  partners  ...  None  None  None   \n",
       "55930    delivery      giant      Windows        10  ...  None  None  None   \n",
       "55931  candidates    parties            U         S  ...  None  None  None   \n",
       "\n",
       "         54    55    56    57    58    59    60  \n",
       "0      None  None  None  None  None  None  None  \n",
       "1      None  None  None  None  None  None  None  \n",
       "2      None  None  None  None  None  None  None  \n",
       "3      None  None  None  None  None  None  None  \n",
       "4      None  None  None  None  None  None  None  \n",
       "...     ...   ...   ...   ...   ...   ...   ...  \n",
       "55927  None  None  None  None  None  None  None  \n",
       "55928  None  None  None  None  None  None  None  \n",
       "55929  None  None  None  None  None  None  None  \n",
       "55930  None  None  None  None  None  None  None  \n",
       "55931  None  None  None  None  None  None  None  \n",
       "\n",
       "[55932 rows x 61 columns]"
      ]
     },
     "execution_count": 34,
     "metadata": {},
     "output_type": "execute_result"
    }
   ],
   "source": [
    "new_headline_words_df"
   ]
  },
  {
   "cell_type": "code",
   "execution_count": null,
   "metadata": {},
   "outputs": [],
   "source": [
    "new_title_words_df = new_title_words_df.fillna('')"
   ]
  },
  {
   "cell_type": "code",
   "execution_count": 36,
   "metadata": {},
   "outputs": [],
   "source": [
    "new_headline_words_df = new_headline_words_df.fillna('')"
   ]
  },
  {
   "cell_type": "code",
   "execution_count": 40,
   "metadata": {},
   "outputs": [
    {
     "data": {
      "text/html": [
       "<div>\n",
       "<style scoped>\n",
       "    .dataframe tbody tr th:only-of-type {\n",
       "        vertical-align: middle;\n",
       "    }\n",
       "\n",
       "    .dataframe tbody tr th {\n",
       "        vertical-align: top;\n",
       "    }\n",
       "\n",
       "    .dataframe thead th {\n",
       "        text-align: right;\n",
       "    }\n",
       "</style>\n",
       "<table border=\"1\" class=\"dataframe\">\n",
       "  <thead>\n",
       "    <tr style=\"text-align: right;\">\n",
       "      <th></th>\n",
       "      <th>0</th>\n",
       "      <th>1</th>\n",
       "      <th>2</th>\n",
       "      <th>3</th>\n",
       "      <th>4</th>\n",
       "      <th>5</th>\n",
       "      <th>6</th>\n",
       "      <th>7</th>\n",
       "      <th>8</th>\n",
       "      <th>9</th>\n",
       "      <th>...</th>\n",
       "      <th>51</th>\n",
       "      <th>52</th>\n",
       "      <th>53</th>\n",
       "      <th>54</th>\n",
       "      <th>55</th>\n",
       "      <th>56</th>\n",
       "      <th>57</th>\n",
       "      <th>58</th>\n",
       "      <th>59</th>\n",
       "      <th>60</th>\n",
       "    </tr>\n",
       "  </thead>\n",
       "  <tbody>\n",
       "    <tr>\n",
       "      <th>0</th>\n",
       "      <td>Obama</td>\n",
       "      <td>Lays</td>\n",
       "      <td>Wreath</td>\n",
       "      <td>Arlington</td>\n",
       "      <td>National</td>\n",
       "      <td>Cemetery</td>\n",
       "      <td>President</td>\n",
       "      <td>Barack</td>\n",
       "      <td>Obama</td>\n",
       "      <td>laid</td>\n",
       "      <td>...</td>\n",
       "      <td></td>\n",
       "      <td></td>\n",
       "      <td></td>\n",
       "      <td></td>\n",
       "      <td></td>\n",
       "      <td></td>\n",
       "      <td></td>\n",
       "      <td></td>\n",
       "      <td></td>\n",
       "      <td></td>\n",
       "    </tr>\n",
       "    <tr>\n",
       "      <th>1</th>\n",
       "      <td>Tim</td>\n",
       "      <td>Haywood</td>\n",
       "      <td>investment</td>\n",
       "      <td>director</td>\n",
       "      <td>business</td>\n",
       "      <td>unit</td>\n",
       "      <td>head</td>\n",
       "      <td>fixed</td>\n",
       "      <td>income</td>\n",
       "      <td>Gam</td>\n",
       "      <td>...</td>\n",
       "      <td></td>\n",
       "      <td></td>\n",
       "      <td></td>\n",
       "      <td></td>\n",
       "      <td></td>\n",
       "      <td></td>\n",
       "      <td></td>\n",
       "      <td></td>\n",
       "      <td></td>\n",
       "      <td></td>\n",
       "    </tr>\n",
       "    <tr>\n",
       "      <th>2</th>\n",
       "      <td>Nouriel</td>\n",
       "      <td>Roubini</td>\n",
       "      <td>NYU</td>\n",
       "      <td>professor</td>\n",
       "      <td>chairman</td>\n",
       "      <td>Roubini</td>\n",
       "      <td>Global</td>\n",
       "      <td>Economics</td>\n",
       "      <td>explains</td>\n",
       "      <td>global</td>\n",
       "      <td>...</td>\n",
       "      <td></td>\n",
       "      <td></td>\n",
       "      <td></td>\n",
       "      <td></td>\n",
       "      <td></td>\n",
       "      <td></td>\n",
       "      <td></td>\n",
       "      <td></td>\n",
       "      <td></td>\n",
       "      <td></td>\n",
       "    </tr>\n",
       "    <tr>\n",
       "      <th>3</th>\n",
       "      <td>Finland's</td>\n",
       "      <td>economy</td>\n",
       "      <td>expanded</td>\n",
       "      <td>marginally</td>\n",
       "      <td>three</td>\n",
       "      <td>months</td>\n",
       "      <td>ended</td>\n",
       "      <td>December</td>\n",
       "      <td>contracting</td>\n",
       "      <td>previous</td>\n",
       "      <td>...</td>\n",
       "      <td></td>\n",
       "      <td></td>\n",
       "      <td></td>\n",
       "      <td></td>\n",
       "      <td></td>\n",
       "      <td></td>\n",
       "      <td></td>\n",
       "      <td></td>\n",
       "      <td></td>\n",
       "      <td></td>\n",
       "    </tr>\n",
       "    <tr>\n",
       "      <th>4</th>\n",
       "      <td>Tourism</td>\n",
       "      <td>public</td>\n",
       "      <td>spending</td>\n",
       "      <td>continued</td>\n",
       "      <td>boost</td>\n",
       "      <td>economy</td>\n",
       "      <td>January</td>\n",
       "      <td>light</td>\n",
       "      <td>contraction</td>\n",
       "      <td>private</td>\n",
       "      <td>...</td>\n",
       "      <td></td>\n",
       "      <td></td>\n",
       "      <td></td>\n",
       "      <td></td>\n",
       "      <td></td>\n",
       "      <td></td>\n",
       "      <td></td>\n",
       "      <td></td>\n",
       "      <td></td>\n",
       "      <td></td>\n",
       "    </tr>\n",
       "    <tr>\n",
       "      <th>...</th>\n",
       "      <td>...</td>\n",
       "      <td>...</td>\n",
       "      <td>...</td>\n",
       "      <td>...</td>\n",
       "      <td>...</td>\n",
       "      <td>...</td>\n",
       "      <td>...</td>\n",
       "      <td>...</td>\n",
       "      <td>...</td>\n",
       "      <td>...</td>\n",
       "      <td>...</td>\n",
       "      <td>...</td>\n",
       "      <td>...</td>\n",
       "      <td>...</td>\n",
       "      <td>...</td>\n",
       "      <td>...</td>\n",
       "      <td>...</td>\n",
       "      <td>...</td>\n",
       "      <td>...</td>\n",
       "      <td>...</td>\n",
       "      <td>...</td>\n",
       "    </tr>\n",
       "    <tr>\n",
       "      <th>55927</th>\n",
       "      <td>Retired</td>\n",
       "      <td>Cuban</td>\n",
       "      <td>leader</td>\n",
       "      <td>Fidel</td>\n",
       "      <td>Castro</td>\n",
       "      <td>slammed</td>\n",
       "      <td>President</td>\n",
       "      <td>Barack</td>\n",
       "      <td>Obama's</td>\n",
       "      <td>recent</td>\n",
       "      <td>...</td>\n",
       "      <td></td>\n",
       "      <td></td>\n",
       "      <td></td>\n",
       "      <td></td>\n",
       "      <td></td>\n",
       "      <td></td>\n",
       "      <td></td>\n",
       "      <td></td>\n",
       "      <td></td>\n",
       "      <td></td>\n",
       "    </tr>\n",
       "    <tr>\n",
       "      <th>55928</th>\n",
       "      <td>President</td>\n",
       "      <td>Obama</td>\n",
       "      <td>caught</td>\n",
       "      <td>predictable</td>\n",
       "      <td>flak</td>\n",
       "      <td>political</td>\n",
       "      <td>right</td>\n",
       "      <td>way</td>\n",
       "      <td>reacted</td>\n",
       "      <td>react</td>\n",
       "      <td>...</td>\n",
       "      <td></td>\n",
       "      <td></td>\n",
       "      <td></td>\n",
       "      <td></td>\n",
       "      <td></td>\n",
       "      <td></td>\n",
       "      <td></td>\n",
       "      <td></td>\n",
       "      <td></td>\n",
       "      <td></td>\n",
       "    </tr>\n",
       "    <tr>\n",
       "      <th>55929</th>\n",
       "      <td>While</td>\n",
       "      <td>Trump</td>\n",
       "      <td>wants</td>\n",
       "      <td>put</td>\n",
       "      <td>large</td>\n",
       "      <td>tariffs</td>\n",
       "      <td>imports</td>\n",
       "      <td>major</td>\n",
       "      <td>trading</td>\n",
       "      <td>partners</td>\n",
       "      <td>...</td>\n",
       "      <td></td>\n",
       "      <td></td>\n",
       "      <td></td>\n",
       "      <td></td>\n",
       "      <td></td>\n",
       "      <td></td>\n",
       "      <td></td>\n",
       "      <td></td>\n",
       "      <td></td>\n",
       "      <td></td>\n",
       "    </tr>\n",
       "    <tr>\n",
       "      <th>55930</th>\n",
       "      <td>Microsoft</td>\n",
       "      <td>business</td>\n",
       "      <td>customers</td>\n",
       "      <td>finally</td>\n",
       "      <td>beginning</td>\n",
       "      <td>take</td>\n",
       "      <td>delivery</td>\n",
       "      <td>giant</td>\n",
       "      <td>Windows</td>\n",
       "      <td>10</td>\n",
       "      <td>...</td>\n",
       "      <td></td>\n",
       "      <td></td>\n",
       "      <td></td>\n",
       "      <td></td>\n",
       "      <td></td>\n",
       "      <td></td>\n",
       "      <td></td>\n",
       "      <td></td>\n",
       "      <td></td>\n",
       "      <td></td>\n",
       "    </tr>\n",
       "    <tr>\n",
       "      <th>55931</th>\n",
       "      <td>AS</td>\n",
       "      <td>WE</td>\n",
       "      <td>know</td>\n",
       "      <td>listening</td>\n",
       "      <td>campaign</td>\n",
       "      <td>rhetoric</td>\n",
       "      <td>candidates</td>\n",
       "      <td>parties</td>\n",
       "      <td>U</td>\n",
       "      <td>S</td>\n",
       "      <td>...</td>\n",
       "      <td></td>\n",
       "      <td></td>\n",
       "      <td></td>\n",
       "      <td></td>\n",
       "      <td></td>\n",
       "      <td></td>\n",
       "      <td></td>\n",
       "      <td></td>\n",
       "      <td></td>\n",
       "      <td></td>\n",
       "    </tr>\n",
       "  </tbody>\n",
       "</table>\n",
       "<p>55932 rows × 61 columns</p>\n",
       "</div>"
      ],
      "text/plain": [
       "              0         1           2            3          4          5   \\\n",
       "0          Obama      Lays      Wreath    Arlington   National   Cemetery   \n",
       "1            Tim   Haywood  investment     director   business       unit   \n",
       "2        Nouriel   Roubini         NYU    professor   chairman    Roubini   \n",
       "3      Finland's   economy    expanded   marginally      three     months   \n",
       "4        Tourism    public    spending    continued      boost    economy   \n",
       "...          ...       ...         ...          ...        ...        ...   \n",
       "55927    Retired     Cuban      leader        Fidel     Castro    slammed   \n",
       "55928  President     Obama      caught  predictable       flak  political   \n",
       "55929      While     Trump       wants          put      large    tariffs   \n",
       "55930  Microsoft  business   customers      finally  beginning       take   \n",
       "55931         AS        WE        know    listening   campaign   rhetoric   \n",
       "\n",
       "               6          7            8         9   ... 51 52 53 54 55 56 57  \\\n",
       "0       President     Barack        Obama      laid  ...                        \n",
       "1            head      fixed       income       Gam  ...                        \n",
       "2          Global  Economics     explains    global  ...                        \n",
       "3           ended   December  contracting  previous  ...                        \n",
       "4         January      light  contraction   private  ...                        \n",
       "...           ...        ...          ...       ...  ... .. .. .. .. .. .. ..   \n",
       "55927   President     Barack      Obama's    recent  ...                        \n",
       "55928       right        way      reacted     react  ...                        \n",
       "55929     imports      major      trading  partners  ...                        \n",
       "55930    delivery      giant      Windows        10  ...                        \n",
       "55931  candidates    parties            U         S  ...                        \n",
       "\n",
       "      58 59 60  \n",
       "0               \n",
       "1               \n",
       "2               \n",
       "3               \n",
       "4               \n",
       "...   .. .. ..  \n",
       "55927           \n",
       "55928           \n",
       "55929           \n",
       "55930           \n",
       "55931           \n",
       "\n",
       "[55932 rows x 61 columns]"
      ]
     },
     "execution_count": 40,
     "metadata": {},
     "output_type": "execute_result"
    }
   ],
   "source": [
    "new_headline_words_df"
   ]
  },
  {
   "cell_type": "code",
   "execution_count": null,
   "metadata": {},
   "outputs": [],
   "source": [
    "tfidf_vect = TfidfVectorizer()\n",
    "new_title_words_df\n",
    "# new_title_words_df = new_title_words_df.apply(lambda text: \" \".join(set(text)),axis=1)\n",
    "new_title_words_df['Title'] = new_title_words_df[new_title_words_df.columns[1:]].apply(\n",
    "    lambda x: ' '.join(x.dropna().astype(str)),\n",
    "    axis=1\n",
    ")\n",
    "new_title_words_df = new_title_words_df.iloc[:,25:]\n",
    "new_title_words_df\n",
    "# # new_title_words_df"
   ]
  },
  {
   "cell_type": "code",
   "execution_count": 41,
   "metadata": {},
   "outputs": [
    {
     "data": {
      "text/html": [
       "<div>\n",
       "<style scoped>\n",
       "    .dataframe tbody tr th:only-of-type {\n",
       "        vertical-align: middle;\n",
       "    }\n",
       "\n",
       "    .dataframe tbody tr th {\n",
       "        vertical-align: top;\n",
       "    }\n",
       "\n",
       "    .dataframe thead th {\n",
       "        text-align: right;\n",
       "    }\n",
       "</style>\n",
       "<table border=\"1\" class=\"dataframe\">\n",
       "  <thead>\n",
       "    <tr style=\"text-align: right;\">\n",
       "      <th></th>\n",
       "      <th>Headline</th>\n",
       "    </tr>\n",
       "  </thead>\n",
       "  <tbody>\n",
       "    <tr>\n",
       "      <th>0</th>\n",
       "      <td>Lays Wreath Arlington National Cemetery Presid...</td>\n",
       "    </tr>\n",
       "    <tr>\n",
       "      <th>1</th>\n",
       "      <td>Haywood investment director business unit head...</td>\n",
       "    </tr>\n",
       "    <tr>\n",
       "      <th>2</th>\n",
       "      <td>Roubini NYU professor chairman Roubini Global ...</td>\n",
       "    </tr>\n",
       "    <tr>\n",
       "      <th>3</th>\n",
       "      <td>economy expanded marginally three months ended...</td>\n",
       "    </tr>\n",
       "    <tr>\n",
       "      <th>4</th>\n",
       "      <td>public spending continued boost economy Januar...</td>\n",
       "    </tr>\n",
       "    <tr>\n",
       "      <th>...</th>\n",
       "      <td>...</td>\n",
       "    </tr>\n",
       "    <tr>\n",
       "      <th>55927</th>\n",
       "      <td>Cuban leader Fidel Castro slammed President Ba...</td>\n",
       "    </tr>\n",
       "    <tr>\n",
       "      <th>55928</th>\n",
       "      <td>Obama caught predictable flak political right ...</td>\n",
       "    </tr>\n",
       "    <tr>\n",
       "      <th>55929</th>\n",
       "      <td>Trump wants put large tariffs imports major tr...</td>\n",
       "    </tr>\n",
       "    <tr>\n",
       "      <th>55930</th>\n",
       "      <td>business customers finally beginning take deli...</td>\n",
       "    </tr>\n",
       "    <tr>\n",
       "      <th>55931</th>\n",
       "      <td>WE know listening campaign rhetoric candidates...</td>\n",
       "    </tr>\n",
       "  </tbody>\n",
       "</table>\n",
       "<p>55932 rows × 1 columns</p>\n",
       "</div>"
      ],
      "text/plain": [
       "                                                Headline\n",
       "0      Lays Wreath Arlington National Cemetery Presid...\n",
       "1      Haywood investment director business unit head...\n",
       "2      Roubini NYU professor chairman Roubini Global ...\n",
       "3      economy expanded marginally three months ended...\n",
       "4      public spending continued boost economy Januar...\n",
       "...                                                  ...\n",
       "55927  Cuban leader Fidel Castro slammed President Ba...\n",
       "55928  Obama caught predictable flak political right ...\n",
       "55929  Trump wants put large tariffs imports major tr...\n",
       "55930  business customers finally beginning take deli...\n",
       "55931  WE know listening campaign rhetoric candidates...\n",
       "\n",
       "[55932 rows x 1 columns]"
      ]
     },
     "execution_count": 41,
     "metadata": {},
     "output_type": "execute_result"
    }
   ],
   "source": [
    "tfidf_vect = TfidfVectorizer()\n",
    "new_headline_words_df\n",
    "# new_title_words_df = new_title_words_df.apply(lambda text: \" \".join(set(text)),axis=1)\n",
    "new_headline_words_df['Headline'] = new_headline_words_df[new_headline_words_df.columns[1:]].apply(\n",
    "    lambda x: ' '.join(x.dropna().astype(str)),\n",
    "    axis=1\n",
    ")\n",
    "new_headline_words_df = new_headline_words_df.iloc[:,61:]\n",
    "new_headline_words_df\n",
    "# # new_title_words_df"
   ]
  },
  {
   "cell_type": "code",
   "execution_count": null,
   "metadata": {},
   "outputs": [],
   "source": [
    "X_tfidf = tfidf_vect.fit_transform(new_headline_words_df['Headline'])\n",
    "print(X_tfidf.shape)\n",
    "print(tfidf_vect.get_feature_names())\n",
    "X_tfidf = pd.DataFrame(X_tfidf.toarray())\n",
    "X_tfidf"
   ]
  },
  {
   "cell_type": "code",
   "execution_count": 43,
   "metadata": {},
   "outputs": [],
   "source": [
    "headline_labels = list()\n",
    "for i in range(len(sentiment_headlines)):\n",
    "    if(sentiment_headlines[i] < 0):\n",
    "        headline_labels.append(-1)\n",
    "    elif(sentiment_headlines[i] > 0):\n",
    "        headline_labels.append(1)\n",
    "    else:\n",
    "        headline_labels.append(0)\n",
    "pd.DataFrame(headline_labels)\n",
    "sentiment_headlines_df = pd.DataFrame(headline_labels)"
   ]
  },
  {
   "cell_type": "code",
   "execution_count": 44,
   "metadata": {},
   "outputs": [
    {
     "data": {
      "text/plain": [
       "(55932, 36872)"
      ]
     },
     "execution_count": 44,
     "metadata": {},
     "output_type": "execute_result"
    }
   ],
   "source": [
    "X_tfidf.shape"
   ]
  },
  {
   "cell_type": "code",
   "execution_count": null,
   "metadata": {},
   "outputs": [],
   "source": [
    "sentiment_titles_df.shape"
   ]
  },
  {
   "cell_type": "code",
   "execution_count": 45,
   "metadata": {},
   "outputs": [
    {
     "data": {
      "text/plain": [
       "(55932, 1)"
      ]
     },
     "execution_count": 45,
     "metadata": {},
     "output_type": "execute_result"
    }
   ],
   "source": [
    "sentiment_headlines_df.shape"
   ]
  },
  {
   "cell_type": "code",
   "execution_count": null,
   "metadata": {},
   "outputs": [],
   "source": [
    "X= X_tfidf\n",
    "y = sentiment_titles_df\n",
    "X_train, X_test, y_train, y_test = train_test_split(X, y, test_size=0.20, random_state=42)\n",
    "#fit Log Regression Model\n",
    "clf= LogisticRegression()\n",
    "clf.fit(X_train,y_train)\n",
    "clf.score(X_test,y_test)\n",
    "y_pred = clf.predict(X_test)\n",
    "print(classification_report(y_test, y_pred))"
   ]
  },
  {
   "cell_type": "code",
   "execution_count": 46,
   "metadata": {},
   "outputs": [
    {
     "name": "stderr",
     "output_type": "stream",
     "text": [
      "/usr/local/lib/python3.6/dist-packages/sklearn/utils/validation.py:63: DataConversionWarning: A column-vector y was passed when a 1d array was expected. Please change the shape of y to (n_samples, ), for example using ravel().\n",
      "  return f(*args, **kwargs)\n"
     ]
    },
    {
     "name": "stdout",
     "output_type": "stream",
     "text": [
      "              precision    recall  f1-score   support\n",
      "\n",
      "          -1       0.76      0.85      0.80      6330\n",
      "           0       1.00      0.02      0.03       347\n",
      "           1       0.74      0.68      0.71      4510\n",
      "\n",
      "    accuracy                           0.75     11187\n",
      "   macro avg       0.83      0.51      0.51     11187\n",
      "weighted avg       0.76      0.75      0.74     11187\n",
      "\n"
     ]
    },
    {
     "name": "stderr",
     "output_type": "stream",
     "text": [
      "/usr/local/lib/python3.6/dist-packages/sklearn/linear_model/_logistic.py:765: ConvergenceWarning: lbfgs failed to converge (status=1):\n",
      "STOP: TOTAL NO. of ITERATIONS REACHED LIMIT.\n",
      "\n",
      "Increase the number of iterations (max_iter) or scale the data as shown in:\n",
      "    https://scikit-learn.org/stable/modules/preprocessing.html\n",
      "Please also refer to the documentation for alternative solver options:\n",
      "    https://scikit-learn.org/stable/modules/linear_model.html#logistic-regression\n",
      "  extra_warning_msg=_LOGISTIC_SOLVER_CONVERGENCE_MSG)\n"
     ]
    }
   ],
   "source": [
    "X= X_tfidf\n",
    "y = sentiment_headlines_df\n",
    "X_train, X_test, y_train, y_test = train_test_split(X, y, test_size=0.20, random_state=42)\n",
    "#fit Log Regression Model\n",
    "clf= LogisticRegression()\n",
    "clf.fit(X_train,y_train)\n",
    "clf.score(X_test,y_test)\n",
    "y_pred = clf.predict(X_test)\n",
    "print(classification_report(y_test, y_pred))"
   ]
  },
  {
   "cell_type": "code",
   "execution_count": null,
   "metadata": {},
   "outputs": [],
   "source": []
  }
 ],
 "metadata": {
  "colab": {
   "provenance": []
  },
  "kernelspec": {
   "display_name": "Python 3 (OpenVINO 2020.3.2 LTS)",
   "language": "python",
   "name": "c003-python_3_lts"
  },
  "language_info": {
   "codemirror_mode": {
    "name": "ipython",
    "version": 3
   },
   "file_extension": ".py",
   "mimetype": "text/x-python",
   "name": "python",
   "nbconvert_exporter": "python",
   "pygments_lexer": "ipython3",
   "version": "3.6.9"
  }
 },
 "nbformat": 4,
 "nbformat_minor": 4
}
